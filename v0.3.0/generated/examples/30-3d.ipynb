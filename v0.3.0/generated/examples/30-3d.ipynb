{
 "cells": [
  {
   "cell_type": "markdown",
   "source": [
    "# 3D geometry"
   ],
   "metadata": {}
  },
  {
   "cell_type": "markdown",
   "source": [
    "This page explains the 3D X-ray transform geometry\n",
    "for the Julia package\n",
    "[`ImagePhantoms`](https://github.com/JuliaImageRecon/ImagePhantoms.jl).\n",
    "\n",
    "This page was generated from a single Julia file:\n",
    "[30-3d.jl](https://github.com/JuliaImageRecon/ImagePhantoms.jl/blob/main/docs/lit/examples/30-3d.jl)."
   ],
   "metadata": {}
  },
  {
   "cell_type": "markdown",
   "source": [
    "### Setup"
   ],
   "metadata": {}
  },
  {
   "cell_type": "markdown",
   "source": [
    "Packages needed here."
   ],
   "metadata": {}
  },
  {
   "cell_type": "markdown",
   "source": [
    "### Overview\n",
    "\n",
    "Most practical tomographic imaging problems are 3D,\n",
    "so this package also supports calculating\n",
    "3D line integrals through 3D phantom objects.\n",
    "\n",
    "### 3D projection geometry\n",
    "\n",
    "Given a 3D phantom object,\n",
    "the function `radon`\n",
    "returns a 4-argument function\n",
    "having arguments\n",
    "$(u,v,ϕ,θ)$,\n",
    "where $u,v$ denote the coordinates\n",
    "on a 2D projection plane,\n",
    "$ϕ$ denotes the\n",
    "[azimuthal angle](https://en.wikipedia.org/wiki/Azimuth)\n",
    "angle\n",
    "and\n",
    "$θ$ denotes the\n",
    "[polar angle](https://en.wikipedia.org/wiki/Spherical_coordinate_system).\n",
    "\n",
    "The mathematical definition of the\n",
    "[Radon transform of a 3D function](https://en.wikipedia.org/wiki/Radon_transform)\n",
    "is a collection of (2D) plane integrals,\n",
    "whereas the\n",
    "[X-ray transform](https://en.wikipedia.org/wiki/X-ray_transform)\n",
    "is a collection of (1D) line integrals.\n",
    "See\n",
    "[Section II.1, Natterer 2001](http://doi.org/10.1137/1.9780898719284).\n",
    "So strictly speaking the `radon` function is a misnomer in 3D,\n",
    "whereas for 2D functions\n",
    "the Radon transform and the X-ray transform coincide.\n",
    "\n",
    "The coordinate system used here is defined as follows.\n",
    "Start by defining a point on the \"detector plane\" as follows:\n",
    "$$\n",
    "\\vec{p} = \\vec{p}(u, v, ϕ, θ)\n",
    "= u \\vec{e}_1 + v \\vec{e}_3\n",
    "= (u \\cos ϕ + v \\sin ϕ \\sin θ, u \\sin ϕ - v \\cos ϕ \\sin θ, v \\cos θ) ∈ ℝ^3,\n",
    "$$\n",
    "where\n",
    "$$\n",
    "\\vec{e}_1 = (\\cos ϕ, \\sin ϕ, 0)\n",
    ",\\qquad\n",
    "\\vec{e}_3 = (\\sin ϕ \\sin θ, -\\cos ϕ \\sin θ, \\cos θ).\n",
    "$$\n",
    "\n",
    "Now define the (X-ray) projection\n",
    "of a 3D object $f(\\vec{x})$\n",
    "as\n",
    "$$\n",
    "p(u, v, ϕ, θ)\n",
    "= ∫ f(\\vec{p} + ℓ \\, \\vec{e}) \\, \\mathrm{d} ℓ\n",
    "= ∫_{-∞}^{∞} f( \\vec{p}(u,v,ϕ,θ) + ℓ \\, \\vec{e}(ϕ,θ) ) \\, \\mathrm{d} ℓ,\n",
    "$$\n",
    "where\n",
    "$$\n",
    "\\vec{e}(ϕ,θ) = (-\\sin ϕ \\cos θ, \\cos ϕ \\cos θ, \\sin θ).\n",
    "$$\n",
    "\n",
    "When $θ=0$,\n",
    "then the X-ray transform\n",
    "$p(u, v, ϕ, θ)$\n",
    "is a collection of 2D sinograms,\n",
    "one for each slice of $f(x,y,z)$:\n",
    "$$\n",
    "p(u, v, ϕ, 0)\n",
    "= ∫_{-∞}^{∞} f(u \\cos ϕ - ℓ \\sin ϕ, u \\sin ϕ + ℓ \\cos ϕ, v) \\, \\mathrm{d} ℓ.\n",
    "$$\n",
    "\n",
    "For example projection views,\n",
    "see the Ellipsoid examples."
   ],
   "metadata": {}
  },
  {
   "cell_type": "markdown",
   "source": [
    "---\n",
    "\n",
    "*This notebook was generated using [Literate.jl](https://github.com/fredrikekre/Literate.jl).*"
   ],
   "metadata": {}
  }
 ],
 "nbformat_minor": 3,
 "metadata": {
  "language_info": {
   "file_extension": ".jl",
   "mimetype": "application/julia",
   "name": "julia",
   "version": "1.7.3"
  },
  "kernelspec": {
   "name": "julia-1.7",
   "display_name": "Julia 1.7.3",
   "language": "julia"
  }
 },
 "nbformat": 4
}
