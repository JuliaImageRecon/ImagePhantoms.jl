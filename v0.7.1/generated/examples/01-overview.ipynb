{
 "cells": [
  {
   "cell_type": "markdown",
   "source": [
    "# ImagePhantoms overview"
   ],
   "metadata": {}
  },
  {
   "cell_type": "markdown",
   "source": [
    "This page explains the Julia package\n",
    "[`ImagePhantoms`](https://github.com/JuliaImageRecon/ImagePhantoms.jl).\n",
    "\n",
    "This page was generated from a single Julia file:\n",
    "[01-overview.jl](https://github.com/JuliaImageRecon/ImagePhantoms.jl/blob/main/docs/lit/examples/01-overview.jl)."
   ],
   "metadata": {}
  },
  {
   "cell_type": "markdown",
   "source": [
    "### Setup"
   ],
   "metadata": {}
  },
  {
   "cell_type": "markdown",
   "source": [
    "Packages needed here."
   ],
   "metadata": {}
  },
  {
   "outputs": [],
   "cell_type": "code",
   "source": [
    "import Pkg\n",
    "Pkg.add([\"ImageGeoms\", \"MIRTjim\", \"Unitful\"])\n",
    "\n",
    "using ImagePhantoms\n",
    "using ImageGeoms: ImageGeom, axesf\n",
    "using MIRTjim: jim, prompt, mid3\n",
    "using Plots; default(markerstrokecolor=:auto, label=\"\")\n",
    "using Unitful: mm\n",
    "using InteractiveUtils: versioninfo"
   ],
   "metadata": {},
   "execution_count": null
  },
  {
   "cell_type": "markdown",
   "source": [
    "The following line is helpful when running this file as a script;\n",
    "this way it will prompt user to hit a key after each figure is displayed."
   ],
   "metadata": {}
  },
  {
   "outputs": [],
   "cell_type": "code",
   "source": [
    "isinteractive() ? jim(:prompt, true) : prompt(:draw);"
   ],
   "metadata": {},
   "execution_count": null
  },
  {
   "cell_type": "markdown",
   "source": [
    "### Overview"
   ],
   "metadata": {}
  },
  {
   "cell_type": "markdown",
   "source": [
    "When developing image reconstruction methods,\n",
    "it can be helpful to simulate data (e.g., sinograms)\n",
    "using software-defined images called phantoms.\n",
    "\n",
    "The simplest method here is to make a Shepp-Logan phantom image\n",
    "similar its use in other packages."
   ],
   "metadata": {}
  },
  {
   "outputs": [],
   "cell_type": "code",
   "source": [
    "image = shepp_logan(256) # CT version by default\n",
    "jim(image, \"SheppLogan\"; clim=(0.9, 1.1))"
   ],
   "metadata": {},
   "execution_count": null
  },
  {
   "cell_type": "markdown",
   "source": [
    "## Sinograms"
   ],
   "metadata": {}
  },
  {
   "cell_type": "markdown",
   "source": [
    "Often for image reconstruction algorithm development,\n",
    "we need not only the phantom image, but also its\n",
    "[sinogram, i.e., Radon transform](https://en.wikipedia.org/wiki/Radon_transform)\n",
    "and spectrum.\n",
    "\n",
    "The 2D sinogram coordinate system used here is\n",
    "$$\n",
    "p(r, ϕ) = \\int_{-∞}^{∞} f(r \\cos ϕ - ℓ \\sin ϕ, r \\sin ϕ + ℓ \\cos ϕ) \\, \\mathrm{d} ℓ.\n",
    "$$\n",
    "\n",
    "We start with the vector of ellipses that defines the phantom,\n",
    "using a typical field of view (FOV) of 200mm for a head:"
   ],
   "metadata": {}
  },
  {
   "outputs": [],
   "cell_type": "code",
   "source": [
    "objects = shepp_logan(SheppLoganToft(); fovs=(200mm,200mm))"
   ],
   "metadata": {},
   "execution_count": null
  },
  {
   "cell_type": "markdown",
   "source": [
    "From that collection we can compute images, sinograms and spectra.\n",
    "Use `phantom` to make digital images.\n",
    "It is convenient (but not required)\n",
    "to use `ImageGeoms` to help with the sampling."
   ],
   "metadata": {}
  },
  {
   "outputs": [],
   "cell_type": "code",
   "source": [
    "ig = ImageGeom(dims=(200,256), deltas=(1mm,1mm))\n",
    "image = phantom(axes(ig)..., objects)\n",
    "jim(axes(ig), image; xlabel=\"x\", ylabel=\"y\", title=\"SheppLoganToft\")"
   ],
   "metadata": {},
   "execution_count": null
  },
  {
   "cell_type": "markdown",
   "source": [
    "Here is the sinogram corresponding to this phantom,\n",
    "computed analytically from the ellipse parameters using `radon`:"
   ],
   "metadata": {}
  },
  {
   "outputs": [],
   "cell_type": "code",
   "source": [
    "r = range(-100mm,100mm,401)\n",
    "ϕ = deg2rad.(0:180)\n",
    "sino = radon(r, ϕ, objects)\n",
    "jim(r, ϕ, sino; title=\"Sinogram\", xlabel=\"r\", ylabel=\"ϕ\")"
   ],
   "metadata": {},
   "execution_count": null
  },
  {
   "cell_type": "markdown",
   "source": [
    "## Spectra\n",
    "Here is the 2D spectrum (Fourier transform) of this phantom,\n",
    "computed analytically from the ellipse parameters using `spectrum`:"
   ],
   "metadata": {}
  },
  {
   "outputs": [],
   "cell_type": "code",
   "source": [
    "kspace = spectrum(axesf(ig)..., objects)\n",
    "jim(axesf(ig), log10.(abs.(kspace/(1mm)^2)); xlabel=\"ν₁\", ylabel=\"ν₂\", title=\"log10|Spectrum|\")"
   ],
   "metadata": {},
   "execution_count": null
  },
  {
   "cell_type": "markdown",
   "source": [
    "The 2D Fourier transform formula used here is:\n",
    "$$\n",
    "F(ν_1, ν_2) = ∫ ∫ f(x,y) \\, \\mathrm{e}^{-ı 2π (ν_1 x + ν_2 y)} \\, \\mathrm{d} x \\, \\mathrm{d} y,\n",
    "$$\n",
    "so if $x$ and $y$ have units mm (for example),\n",
    "then the units of the spatial frequency variables\n",
    "$ν_1$ and $ν_2$ are cycles/mm."
   ],
   "metadata": {}
  },
  {
   "cell_type": "markdown",
   "source": [
    "## 2D Rotation\n",
    "\n",
    "All of the 2D objects (ellipses etc.)\n",
    "in this package can be rotated by an angle $ϕ$.\n",
    "\n",
    "This package treats the rotation angle $ϕ$\n",
    "as defining a\n",
    "[rotation of the object](https://en.wikipedia.org/wiki/Rotation_(mathematics)#Two_dimensions).\n",
    "Be aware that a\n",
    "[rotation of the axes](https://en.wikipedia.org/wiki/Rotation_of_axes)\n",
    "has the opposite sign convention.\n",
    "\n",
    "After rotation by $ϕ$,\n",
    "any point $(x,y)$ in the original ellipse\n",
    "becomes the point\n",
    "$$\n",
    "\\left[ \\begin{matrix}\n",
    "x' \\\\ y'\n",
    "\\end{matrix} \\right]\n",
    "=\n",
    "\\left[ \\begin{matrix}\n",
    "\\cos(ϕ) & -\\sin(ϕ) \\\\ \\sin(ϕ) & \\cos(ϕ)\n",
    "\\end{matrix} \\right]\n",
    "\\left[ \\begin{matrix}\n",
    "x \\\\ y\n",
    "\\end{matrix} \\right],\n",
    "$$\n",
    "as illustrated by the blue star below\n",
    "when rotating an ellipse\n",
    "by $ϕ = π/6$."
   ],
   "metadata": {}
  },
  {
   "outputs": [],
   "cell_type": "code",
   "source": [
    "ellipse0 = ellipse(0, 0, 8, 4, 0, 1)\n",
    "ϕ1s = :(π/6)\n",
    "ϕ1 = eval(ϕ1s)\n",
    "ellipse1 = ellipse(0, 0, 8, 4, ϕ1, 1)\n",
    "\n",
    "x = range(-9, 9, 181)\n",
    "y = range(-8, 8, 161)\n",
    "pic0 = phantom(x, y, [ellipse0])\n",
    "pic1 = phantom(x, y, [ellipse1])\n",
    "\n",
    "marker = :star\n",
    "p0 = jim(x, y, pic0, \"Original ellipse\";\n",
    "    xlabel=\"x\", ylabel=\"y\", prompt=:false)\n",
    "x0,y0 = 7,0\n",
    "scatter!([x0], [y0], color=:blue; marker)\n",
    "point1 = [cos(ϕ1) -sin(ϕ1); sin(ϕ1) cos(ϕ1)] * [x0; y0] # rotate point\n",
    "x1,y1 = point1[1], point1[2]\n",
    "p1 = jim(x, y, pic1, \"Rotated by ϕ = $ϕ1s\";\n",
    "    xlabel=\"x\", ylabel=\"y\", prompt=:false)\n",
    "scatter!([x1], [y1], color=:blue; marker)\n",
    "jim(p0, p1)"
   ],
   "metadata": {},
   "execution_count": null
  },
  {
   "cell_type": "markdown",
   "source": [
    "## 3D Rotation\n",
    "\n",
    "For a 3D object,\n",
    "there are three rotation angles,\n",
    "often called\n",
    "[Euler angles](https://en.wikipedia.org/wiki/Euler_angles),\n",
    "and there are many possible conventions\n",
    "for the names and ordering of these angles.\n",
    "\n",
    "This package denotes\n",
    "the three angles as $ϕ,θ,ψ.$\n",
    "\n",
    "### Rotation about $z$ by $ϕ$\n",
    "\n",
    "For consistency with the 2D case,\n",
    "the first of the three angles,\n",
    "$ϕ$,\n",
    "denotes rotation in the $(x,y)$ plane,\n",
    "i.e., around the $z$-axis.\n",
    "In\n",
    "[wikipedia's notation](https://en.wikipedia.org/w/index.php?title=Rotation_matrix&section=9#In_three_dimensions)\n",
    "this is\n",
    "$R_z(ϕ)$,\n",
    "defined as\n",
    "$$\n",
    "\\left[ \\begin{matrix}\n",
    "x' \\\\ y' \\\\ z'\n",
    "\\end{matrix} \\right]\n",
    "=\n",
    "\\left[ \\begin{matrix}\n",
    "\\cos(θ) & -\\sin(θ) & 0\n",
    "\\\\\n",
    "\\sin(θ) & \\cos(θ) & 0\n",
    "\\\\\n",
    "0 & 0 & 1\n",
    "\\\\\n",
    "\\end{matrix} \\right]\n",
    "\\left[ \\begin{matrix}\n",
    "x \\\\ y \\\\ z\n",
    "\\end{matrix} \\right]\n",
    "$$\n",
    "as illustrated by the blue star below.\n",
    "\n",
    "Here is an illustration\n",
    "for $ϕ = π/6$."
   ],
   "metadata": {}
  },
  {
   "outputs": [],
   "cell_type": "code",
   "source": [
    "ellipsoid0 = ellipsoid((0, 0, 0), (8, 4, 2), (0, 0, 0), 1)\n",
    "ϕ1s = :(π/6)\n",
    "ϕ1 = eval(ϕ1s)\n",
    "ellipsoid1 = ellipsoid((0, 0, 0), (8, 4, 2), (ϕ1, 0, 0), 1)\n",
    "\n",
    "x = range(-9, 9, 181)\n",
    "y = range(-8, 8, 161)\n",
    "z = [0]\n",
    "pic0 = phantom(x, y, z, [ellipsoid0])\n",
    "pic1 = phantom(x, y, z, [ellipsoid1])\n",
    "\n",
    "p0z = jim(x, y, pic0,\n",
    "    \"Original ellipsoid:\\n(x,y) slice\";\n",
    "    xlabel=\"x\", ylabel=\"y\", prompt=:false)\n",
    "x0,y0 = 7,0\n",
    "scatter!([x0], [y0], color=:blue; marker)\n",
    "Rz(ϕ) = [cos(ϕ) -sin(ϕ) 0; sin(ϕ) cos(ϕ) 0; 0 0 1]\n",
    "point1 = Rz(ϕ1) * [x0; y0; 0] # rotate point\n",
    "x1,y1 = point1[1], point1[2]\n",
    "p1z = jim(x, y, pic1,\n",
    "    \"Rotated about z\\nby ϕ = $ϕ1s\\n(z out of 'board')\";\n",
    "    xlabel=\"x\", ylabel=\"y\", prompt=:false)\n",
    "scatter!([x1], [y1], color=:blue; marker)\n",
    "jim(p0z, p1z)"
   ],
   "metadata": {},
   "execution_count": null
  },
  {
   "cell_type": "markdown",
   "source": [
    "### Rotation about $y$ by $θ$\n",
    "\n",
    "The 2nd of the three angles,\n",
    "$θ$,\n",
    "corresponds to rotation around the $y$-axis,\n",
    "which has the opposite sign\n",
    "when using the\n",
    "[right hand rule](https://en.wikipedia.org/wiki/Right-hand_rule#A_rotating_body):\n",
    "$$\n",
    "\\left[ \\begin{matrix}\n",
    "x' \\\\ y' \\\\ z'\n",
    "\\end{matrix} \\right]\n",
    "=\n",
    "\\left[ \\begin{matrix}\n",
    "\\cos(θ) & 0 & \\sin(θ)\n",
    "\\\\\n",
    "0 & 1 & 0\n",
    "\\\\\n",
    "-\\sin(θ) & 0 & \\cos(θ)\n",
    "\\\\\n",
    "\\end{matrix} \\right]\n",
    "\\left[ \\begin{matrix}\n",
    "x \\\\ y \\\\ z\n",
    "\\end{matrix} \\right],\n",
    "$$\n",
    "as illustrated by the green star below.\n",
    "\n",
    "In\n",
    "[wikipedia notation](https://en.wikipedia.org/w/index.php?title=Rotation_matrix&section=9#In_three_dimensions)\n",
    "this is\n",
    "$R_y(θ)$.\n",
    "\n",
    "Here is an illustration\n",
    "of rotating an ellipsoid\n",
    "for $θ = π/6$."
   ],
   "metadata": {}
  },
  {
   "outputs": [],
   "cell_type": "code",
   "source": [
    "ellipsoid0 = ellipsoid((0, 0, 0), (8, 4, 2), (0, 0, 0), 1)\n",
    "θ1s = :(π/6)\n",
    "θ1 = eval(θ1s)\n",
    "ellipsoid1 = ellipsoid((0, 0, 0), (8, 4, 2), (0, θ1, 0), 1)\n",
    "\n",
    "x = range(-9, 9, 181)\n",
    "y = [0]\n",
    "z = range(-8, 8, 161)\n",
    "pic0 = phantom(x, y, z, [ellipsoid0]); pic0 = selectdim(pic0, 2, 1)\n",
    "pic1 = phantom(x, y, z, [ellipsoid1]); pic1 = selectdim(pic1, 2, 1)\n",
    "\n",
    "p0y = jim(x, z, pic0,\n",
    "    \"Original ellipsoid:\\n (x,z) slice\";\n",
    "    xlabel=\"x\", ylabel=\"z\", prompt=false)\n",
    "x0,z0 = 7,0\n",
    "scatter!([x0], [z0], color=:green; marker)\n",
    "Ry(θ) = [cos(θ) 0 sin(θ); 0 1 0; -sin(θ) 0 cos(θ)]\n",
    "point1 = Ry(θ1) * [x0; 0; z0] # rotate point\n",
    "x1,z1 = point1[1], point1[3]\n",
    "p1y = jim(x, z, pic1,\n",
    "    \"Rotated about y\\nby θ = $θ1s\\n(y into 'board')\";\n",
    "    xlabel=\"x\", ylabel=\"z\", prompt=false)\n",
    "scatter!([x1], [z1], color=:green; marker)\n",
    "jim(p0y, p1y)"
   ],
   "metadata": {},
   "execution_count": null
  },
  {
   "cell_type": "markdown",
   "source": [
    "### Rotation about $x$ by $ψ$\n",
    "\n",
    "The 3rd of the three angles,\n",
    "$ψ$,\n",
    "corresponds to rotation around the $x$-axis:\n",
    "\n",
    "$$\n",
    "\\left[ \\begin{matrix}\n",
    "x' \\\\ y' \\\\ z'\n",
    "\\end{matrix} \\right]\n",
    "=\n",
    "\\left[ \\begin{matrix}\n",
    "1 & 0 & 0\n",
    "\\\\\n",
    "0 & \\cos(ψ) & -\\sin(ψ)\n",
    "\\\\\n",
    "0 & \\sin(ψ) & \\cos(ψ)\n",
    "\\\\\n",
    "\\end{matrix} \\right]\n",
    "\\left[ \\begin{matrix}\n",
    "x \\\\ y \\\\ z\n",
    "\\end{matrix} \\right],\n",
    "$$\n",
    "as illustrated by the red star below.\n",
    "\n",
    "In\n",
    "[wikipedia notation](https://en.wikipedia.org/w/index.php?title=Rotation_matrix&section=9#In_three_dimensions)\n",
    "this is\n",
    "$R_x(ψ)$.\n",
    "\n",
    "Here is an illustration\n",
    "of rotating an ellipsoid\n",
    "for $ψ = π/6$."
   ],
   "metadata": {}
  },
  {
   "outputs": [],
   "cell_type": "code",
   "source": [
    "ellipsoid0 = ellipsoid((0, 0, 0), (8, 4, 2), (0, 0, 0), 1)\n",
    "ψ1s = :(π/6)\n",
    "ψ1 = eval(ψ1s)\n",
    "ellipsoid1 = ellipsoid((0, 0, 0), (8, 4, 2), (0, 0, ψ1), 1)\n",
    "\n",
    "x = [0]\n",
    "y = range(-9, 9, 181)\n",
    "z = range(-8, 8, 161)\n",
    "pic0 = phantom(x, y, z, [ellipsoid0]); pic0 = selectdim(pic0, 1, 1)\n",
    "pic1 = phantom(x, y, z, [ellipsoid1]); pic1 = selectdim(pic1, 1, 1)\n",
    "\n",
    "p0x = jim(y, z, pic0,\n",
    "    \"Original ellipsoid:\\n (y,z) slice)\";\n",
    "    xlabel=\"y\", ylabel=\"z\", prompt=false)\n",
    "y0,z0 = 3,0\n",
    "scatter!([y0], [z0], color=:red; marker)\n",
    "Rx(ψ) = [1 0 0 ; 0 cos(ψ) -sin(ψ); 0 sin(ψ) cos(ψ)]\n",
    "point1 = Rx(ψ1) * [0; y0; z0] # rotate point\n",
    "y1,z1 = point1[2], point1[3]\n",
    "p1x = jim(y, z, pic1,\n",
    "    \"Rotated about x\\nby ψ = $ψ1s\\n(x out of 'board')\";\n",
    "    xlabel=\"y\", ylabel=\"z\", prompt=false)\n",
    "scatter!([y1], [z1], color=:red; marker)\n",
    "jim(p0x, p1x)"
   ],
   "metadata": {},
   "execution_count": null
  },
  {
   "cell_type": "markdown",
   "source": [
    "The remaining issue is the multiplication order\n",
    "for multiple rotations.\n",
    "\n",
    "To address that,\n",
    "we first describe\n",
    "how phantoms are generated in this package.\n",
    "Every phantom shape\n",
    "starts with a base function\n",
    "that is translated, rotated, and scaled\n",
    "to make the final object.\n",
    "For example,\n",
    "an ellipsoid is a transformed sphere.\n",
    "Specifically,\n",
    "if $e(r)$ is the ellipsoid function,\n",
    "and $s(r)$ is the unit sphere function,\n",
    "where\n",
    "$r = (x,y,z)$,\n",
    "then\n",
    "$$\n",
    "e(r) = s( (R_{xyz}^T (r - c)) ⊘ w )\n",
    "$$\n",
    "where $c$ is the `center` of the ellipsoid,\n",
    "and $r$ is the `width` parameter (actually radii),\n",
    "$⊘$ denotes element-wise division,\n",
    "and $R_{xyz}^T$\n",
    "is the *inverse*\n",
    "of the 3D rotation matrix\n",
    "$R_{xyz}$\n",
    "defined by\n",
    "$R_{xyz} = R_x(ψ) R_y(θ) R_z(ϕ)$.\n",
    "\n",
    "Note that $r$ and $c$ and $w$\n",
    "all must have identical units,\n",
    "so the argument\n",
    "$(R_{xyz}^T (r - c)) ⊘ w$\n",
    "passed the unit-sphere function\n",
    "is unitless,\n",
    "as it must be.\n",
    "The non-exported `phantom1` function\n",
    "for each shape\n",
    "defines the base shape function.\n",
    "For the unit sphere it is simply\n",
    "`sum(abs2, r) ≤ 1`.\n",
    "\n",
    "Rearranging the equation\n",
    "$r' = (R_{xyz}^T (r - c)) ⊘ w$\n",
    "yields\n",
    "$r = R_{xyz} (w ⊙ r') + c$.\n",
    "So the process of transforming a unit sphere\n",
    "to an ellipsoid starts with scaling,\n",
    "then rotation by\n",
    "$R_{xyz}$,\n",
    "which rotates first around the $z$-axis,\n",
    "and then finally translating.\n",
    "\n",
    "Here is an illustration\n",
    "where one can see that all three axes were rotated."
   ],
   "metadata": {}
  },
  {
   "outputs": [],
   "cell_type": "code",
   "source": [
    "ellipsoid0 = ellipsoid((0, 0, 0), (8, 4, 2), (0, 0, 0), 1)\n",
    "ϕ1s = :(π/6)\n",
    "ϕ1 = eval(ϕ1s)\n",
    "θ1s = :(π/7)\n",
    "θ1 = eval(θ1s)\n",
    "ψ1s = :(π/8)\n",
    "ψ1 = eval(ψ1s)\n",
    "ellipsoid1 = ellipsoid((0, 0, 0), (8, 4, 2), (ϕ1, θ1, ψ1), 1)\n",
    "\n",
    "x = range(-9, 9, 181)\n",
    "y = range(-8, 8, 161)\n",
    "z = range(-7, 7, 71)\n",
    "pic0 = phantom(x, y, z, [ellipsoid0])\n",
    "pic1 = phantom(x, y, z, [ellipsoid1])\n",
    "\n",
    "p0a = jim(mid3(pic0),\n",
    "    \"Original ellipsoid\\n(central slices)\";\n",
    "    xlabel=\"x\", ylabel=\"y\", prompt=:false)\n",
    "p1a = jim(mid3(pic1),\n",
    "    \"Rotated\\nϕ = $ϕ1s, θ = $θ1s, ψ = $ψ1s\";\n",
    "    xlabel=\"x\", ylabel=\"y\", prompt=:false)\n",
    "jim(p0a, p1a)"
   ],
   "metadata": {},
   "execution_count": null
  },
  {
   "cell_type": "markdown",
   "source": [
    "### Spectra rotation\n",
    "\n",
    "The `spectrum` method\n",
    "accounts for the translation, rotation, and scaling\n",
    "of the base shape function\n",
    "using elementary Fourier transform properties.\n",
    "\n",
    "The following code\n",
    "first shows the spectra of an ellipsoid\n",
    "before and after rotating it."
   ],
   "metadata": {}
  },
  {
   "outputs": [],
   "cell_type": "code",
   "source": [
    "ig = ImageGeom(length.((x,y,z)), map(x -> x[2]-x[1], (x,y,z)))\n",
    "kspace0 = spectrum(axesf(ig)..., [ellipsoid0])\n",
    "kspace1 = spectrum(axesf(ig)..., [ellipsoid1])\n",
    "@assert ImagePhantoms.volume(ellipsoid0) == ImagePhantoms.volume(ellipsoid1)\n",
    "\n",
    "clim = (-6, 0)\n",
    "p0s = jim(axesf(ig), log10.(abs.(kspace0 / ImagePhantoms.volume(ellipsoid0)));\n",
    "    clim, xlabel=\"ν₁\", ylabel=\"ν₂\", title=\"log10|Spectrum original ellipsoid|\")"
   ],
   "metadata": {},
   "execution_count": null
  },
  {
   "outputs": [],
   "cell_type": "code",
   "source": [
    "p1s = jim(axesf(ig), log10.(abs.(kspace1 / ImagePhantoms.volume(ellipsoid1)));\n",
    "    clim, xlabel=\"ν₁\", ylabel=\"ν₂\", title=\"log10|Spectrum rotated ellipsoid|\")"
   ],
   "metadata": {},
   "execution_count": null
  },
  {
   "cell_type": "markdown",
   "source": [
    "The following code verifies that the rotated spectrum matches"
   ],
   "metadata": {}
  },
  {
   "outputs": [],
   "cell_type": "code",
   "source": [
    "k = Iterators.product(axesf(ig)...) # tuples of (kx,ky,kz) values\n",
    "R = Rx(ψ1) * Ry(θ1) * Rz(ϕ1) # Rxyz rotation matrix\n",
    "kr = (tuple((R' * collect(k))...) for k in k) # rotate each k-space tuple\n",
    "kspace0r = spectrum(kr, [ellipsoid0]) # evaluate spectrum at rotated tuples\n",
    "@assert kspace0r ≈ kspace1"
   ],
   "metadata": {},
   "execution_count": null
  },
  {
   "cell_type": "markdown",
   "source": [
    "## Reproducibility"
   ],
   "metadata": {}
  },
  {
   "cell_type": "markdown",
   "source": [
    "This page was generated with the following version of Julia:"
   ],
   "metadata": {}
  },
  {
   "outputs": [],
   "cell_type": "code",
   "source": [
    "io = IOBuffer(); versioninfo(io); split(String(take!(io)), '\\n')"
   ],
   "metadata": {},
   "execution_count": null
  },
  {
   "cell_type": "markdown",
   "source": [
    "And with the following package versions"
   ],
   "metadata": {}
  },
  {
   "outputs": [],
   "cell_type": "code",
   "source": [
    "import Pkg; Pkg.status()"
   ],
   "metadata": {},
   "execution_count": null
  },
  {
   "cell_type": "markdown",
   "source": [
    "---\n",
    "\n",
    "*This notebook was generated using [Literate.jl](https://github.com/fredrikekre/Literate.jl).*"
   ],
   "metadata": {}
  }
 ],
 "nbformat_minor": 3,
 "metadata": {
  "language_info": {
   "file_extension": ".jl",
   "mimetype": "application/julia",
   "name": "julia",
   "version": "1.8.3"
  },
  "kernelspec": {
   "name": "julia-1.8",
   "display_name": "Julia 1.8.3",
   "language": "julia"
  }
 },
 "nbformat": 4
}
