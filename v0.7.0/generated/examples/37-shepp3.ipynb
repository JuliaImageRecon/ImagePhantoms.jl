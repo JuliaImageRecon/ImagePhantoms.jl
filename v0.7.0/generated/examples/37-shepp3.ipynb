{
 "cells": [
  {
   "cell_type": "markdown",
   "source": [
    "# 3D Shepp-Logan Phantom"
   ],
   "metadata": {}
  },
  {
   "cell_type": "markdown",
   "source": [
    "This page illustrates the 3D Shepp-Logan phantom(s)\n",
    "in the Julia package\n",
    "[`ImagePhantoms`](https://github.com/JuliaImageRecon/ImagePhantoms.jl).\n",
    "\n",
    "This page was generated from a single Julia file:\n",
    "[37-shepp3.jl](https://github.com/JuliaImageRecon/ImagePhantoms.jl/blob/main/docs/lit/examples/37-shepp3.jl)."
   ],
   "metadata": {}
  },
  {
   "cell_type": "markdown",
   "source": [
    "### Setup"
   ],
   "metadata": {}
  },
  {
   "cell_type": "markdown",
   "source": [
    "Packages needed here."
   ],
   "metadata": {}
  },
  {
   "outputs": [],
   "cell_type": "code",
   "source": [
    "using ImagePhantoms: ellipsoid_parameters, ellipsoid, phantom\n",
    "using ImageGeoms: ImageGeom, axes\n",
    "using MIRTjim: jim, prompt\n",
    "using Unitful: g, cm"
   ],
   "metadata": {},
   "execution_count": null
  },
  {
   "cell_type": "markdown",
   "source": [
    "The following line is helpful when running this file as a script;\n",
    "it prompts user to hit a key after each figure is displayed."
   ],
   "metadata": {}
  },
  {
   "outputs": [],
   "cell_type": "code",
   "source": [
    "isinteractive() ? jim(:prompt, true) : prompt(:draw);"
   ],
   "metadata": {},
   "execution_count": null
  },
  {
   "cell_type": "markdown",
   "source": [
    "### Overview\n",
    "\n",
    "Currently this package provides\n",
    "one version of a 3D Shepp-Logan phantom\n",
    "consisting of ellipsoids.\n",
    "\n",
    "For completeness,\n",
    "we illustrate it using units,\n",
    "though units are not required.\n",
    "\n",
    "We use cm for the spatial units\n",
    "and g/cm³ (density)\n",
    "for the tissue values."
   ],
   "metadata": {}
  },
  {
   "outputs": [],
   "cell_type": "code",
   "source": [
    "fovs = (24cm, 24cm, 20cm)\n",
    "u = (1, 1, 1*g/cm^3)\n",
    "params = ellipsoid_parameters( ; fovs, u)\n",
    "ob = ellipsoid(params); # Vector of Ellipsoid objects"
   ],
   "metadata": {},
   "execution_count": null
  },
  {
   "cell_type": "markdown",
   "source": [
    "To visualize this phantom,\n",
    "we sample it\n",
    "with the help of `ImageGeoms`,\n",
    "using over-sampling\n",
    "to account for partial volume effects."
   ],
   "metadata": {}
  },
  {
   "outputs": [],
   "cell_type": "code",
   "source": [
    "dims = (128,130,30)\n",
    "ig = ImageGeom( ; dims, deltas = fovs ./ dims )\n",
    "\n",
    "oversample = 3\n",
    "image = phantom(axes(ig)..., ob, oversample)\n",
    "clim = (0.95, 1.05)\n",
    "jim(axes(ig)[1:2]..., image; title = \"3D Shepp-Logan phantom slices\", clim)"
   ],
   "metadata": {},
   "execution_count": null
  },
  {
   "cell_type": "markdown",
   "source": [
    "---\n",
    "\n",
    "*This notebook was generated using [Literate.jl](https://github.com/fredrikekre/Literate.jl).*"
   ],
   "metadata": {}
  }
 ],
 "nbformat_minor": 3,
 "metadata": {
  "language_info": {
   "file_extension": ".jl",
   "mimetype": "application/julia",
   "name": "julia",
   "version": "1.8.2"
  },
  "kernelspec": {
   "name": "julia-1.8",
   "display_name": "Julia 1.8.2",
   "language": "julia"
  }
 },
 "nbformat": 4
}
