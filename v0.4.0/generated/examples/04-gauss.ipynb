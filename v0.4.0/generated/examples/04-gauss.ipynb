{
 "cells": [
  {
   "cell_type": "markdown",
   "source": [
    "# 2D Gaussian"
   ],
   "metadata": {}
  },
  {
   "cell_type": "markdown",
   "source": [
    "This page illustrates the `Gauss2` shape in the Julia package\n",
    "[`ImagePhantoms`](https://github.com/JuliaImageRecon/ImagePhantoms.jl).\n",
    "\n",
    "This page was generated from a single Julia file:\n",
    "[04-gauss.jl](https://github.com/JuliaImageRecon/ImagePhantoms.jl/blob/main/docs/lit/examples/04-gauss.jl)."
   ],
   "metadata": {}
  },
  {
   "cell_type": "markdown",
   "source": [
    "### Setup"
   ],
   "metadata": {}
  },
  {
   "cell_type": "markdown",
   "source": [
    "Packages needed here."
   ],
   "metadata": {}
  },
  {
   "outputs": [],
   "cell_type": "code",
   "source": [
    "using ImagePhantoms: gauss2\n",
    "using ImagePhantoms: phantom, radon, spectrum\n",
    "import ImagePhantoms as IP\n",
    "using ImageGeoms: ImageGeom, axesf\n",
    "using MIRTjim: jim, prompt\n",
    "using FFTW: fft, fftshift, ifftshift\n",
    "using Unitful: mm, unit, °\n",
    "using UnitfulRecipes\n",
    "using Plots: plot, plot!, scatter!, default\n",
    "default(markerstrokecolor=:auto)"
   ],
   "metadata": {},
   "execution_count": null
  },
  {
   "cell_type": "markdown",
   "source": [
    "The following line is helpful when running this file as a script;\n",
    "this way it will prompt user to hit a key after each figure is displayed."
   ],
   "metadata": {}
  },
  {
   "outputs": [],
   "cell_type": "code",
   "source": [
    "isinteractive() ? jim(:prompt, true) : prompt(:draw);"
   ],
   "metadata": {},
   "execution_count": null
  },
  {
   "cell_type": "markdown",
   "source": [
    "### Overview"
   ],
   "metadata": {}
  },
  {
   "cell_type": "markdown",
   "source": [
    "A useful shape\n",
    "for constructing 2D digital image phantoms\n",
    "is the 2D Gaussian,\n",
    "specified by its center, fwhm, angles and value.\n",
    "All of the methods in `ImagePhantoms` support physical units,\n",
    "so we use such units throughout this example.\n",
    "(Using units is recommended but not required.)\n",
    "\n",
    "Define a 2D Gaussian object,\n",
    "using physical units."
   ],
   "metadata": {}
  },
  {
   "outputs": [],
   "cell_type": "code",
   "source": [
    "width = (50mm, 20mm) # full-width at half-maximum (FHWM)\n",
    "ob = gauss2((20mm, 30mm), width, π/6, 1.0f0)"
   ],
   "metadata": {},
   "execution_count": null
  },
  {
   "cell_type": "markdown",
   "source": [
    "### Phantom image using `phantom`"
   ],
   "metadata": {}
  },
  {
   "cell_type": "markdown",
   "source": [
    "Make a digital image of it using `phantom` and display it."
   ],
   "metadata": {}
  },
  {
   "outputs": [],
   "cell_type": "code",
   "source": [
    "dx, dy = 1.2mm, 1.0mm\n",
    "M, N = (2^8, 2^8+2)\n",
    "x = (-M÷2:M÷2-1) * dx\n",
    "y = (-N÷2:N÷2-1) * dy\n",
    "oversample = 2\n",
    "img = phantom(x, y, [ob], oversample)\n",
    "jim(x, y, img, \"2D Gaussian image\")"
   ],
   "metadata": {},
   "execution_count": null
  },
  {
   "cell_type": "markdown",
   "source": [
    "Hereafter we use `ImageGeoms` to simplify the indexing."
   ],
   "metadata": {}
  },
  {
   "outputs": [],
   "cell_type": "code",
   "source": [
    "M, N = (2^8, 2^8+17) # odd\n",
    "ig = ImageGeom(dims=(M,N), deltas=(dx,dy), offsets=:dsp)\n",
    "@assert axes(ig)[1] ≈ x\n",
    "oversample = 2\n",
    "img = phantom(axes(ig)..., [ob], oversample)\n",
    "p1 = jim(axes(ig), img, \"2D Gaussian phantom\", xlabel=\"x\", ylabel=\"y\")"
   ],
   "metadata": {},
   "execution_count": null
  },
  {
   "cell_type": "markdown",
   "source": [
    "The image integral should approximate the object area"
   ],
   "metadata": {}
  },
  {
   "outputs": [],
   "cell_type": "code",
   "source": [
    "area = IP.area(ob)\n",
    "(sum(img) * prod(ig.deltas), area)"
   ],
   "metadata": {},
   "execution_count": null
  },
  {
   "cell_type": "markdown",
   "source": [
    "### Spectrum using `spectrum`\n",
    "\n",
    "There are two ways to examine the spectrum of this image:\n",
    "* using the analytical Fourier transform of the object via `spectrum`\n",
    "* applying the DFT via FFT to the digital image.\n",
    "Because the shape has units `mm`, the spectra axes have units cycles/mm."
   ],
   "metadata": {}
  },
  {
   "outputs": [],
   "cell_type": "code",
   "source": [
    "vscale = 1 / area # normalize spectra by area\n",
    "spectrum_exact = spectrum(axesf(ig)..., [ob]) * vscale\n",
    "sp = z -> max(log10(abs(z)/oneunit(abs(z))), -6) # log-scale for display\n",
    "clim = (-6, 0) # colorbar limit for display\n",
    "(xlabel, ylabel) = (\"ν₁\", \"ν₂\")\n",
    "p2 = jim(axesf(ig), sp.(spectrum_exact), \"log10|Spectrum|\"; clim, xlabel, ylabel)"
   ],
   "metadata": {},
   "execution_count": null
  },
  {
   "cell_type": "markdown",
   "source": [
    "Sadly `fft` cannot handle units currently, so this function is a work-around:"
   ],
   "metadata": {}
  },
  {
   "outputs": [],
   "cell_type": "code",
   "source": [
    "function myfft(x)\n",
    "    u = unit(eltype(x))\n",
    "    return fftshift(fft(ifftshift(x) / u)) * u\n",
    "end\n",
    "\n",
    "spectrum_fft = myfft(img) * (prod(ig.deltas) * vscale)\n",
    "p3 = jim(axesf(ig), sp.(spectrum_fft), \"log10|DFT|\"; clim, xlabel, ylabel)"
   ],
   "metadata": {},
   "execution_count": null
  },
  {
   "cell_type": "markdown",
   "source": [
    "Compare the DFT and analytical spectra to validate the code"
   ],
   "metadata": {}
  },
  {
   "outputs": [],
   "cell_type": "code",
   "source": [
    "errf = maximum(abs, spectrum_exact - spectrum_fft) / maximum(abs, spectrum_exact)\n",
    "@assert errf < 4e-4\n",
    "p4 = jim(axesf(ig), 1e3*abs.(spectrum_fft - spectrum_exact),\n",
    "    \"|Difference| × 10³\"; xlabel, ylabel)\n",
    "    #src \"Difference|| × 10³\"; xlabel, ylabel)\n",
    "    #src \"Difference∠\"; xlabel, ylabel)\n",
    "jim(p1, p4, p2, p3)"
   ],
   "metadata": {},
   "execution_count": null
  },
  {
   "cell_type": "markdown",
   "source": [
    "### Radon transform using `radon`"
   ],
   "metadata": {}
  },
  {
   "cell_type": "markdown",
   "source": [
    "Examine the Radon transform of the object using `radon`,\n",
    "and validate it using the projection-slice theorem aka Fourier-slice theorem."
   ],
   "metadata": {}
  },
  {
   "outputs": [],
   "cell_type": "code",
   "source": [
    "dr = 0.2mm # radial sample spacing\n",
    "nr = 2^10 # radial sinogram bins\n",
    "r = (-nr÷2:nr÷2-1) * dr # radial samples\n",
    "fr = (-nr÷2:nr÷2-1) / nr / dr # corresponding spectral axis\n",
    "ϕ = deg2rad.(0:180)\n",
    "sino = radon(ob).(r, ϕ') # sample Radon transform of a single shape object\n",
    "smax = ob.value * IP.fwhm2spread(50mm)\n",
    "p5 = jim(r, rad2deg.(ϕ), sino; title=\"sinogram\",\n",
    "    xlabel=\"r\", ylabel=\"ϕ\", clim = (0,1) .* smax)"
   ],
   "metadata": {},
   "execution_count": null
  },
  {
   "cell_type": "markdown",
   "source": [
    "The maximum sinogram value is about\n",
    "`fwhm2spread(50mm) = 50mm * sqrt(π / log(16)) ≈ 53mm`\n",
    "which makes sense for\n",
    "a 2D Gaussian whose longest axis has FWHM = 50mm.\n",
    "\n",
    "The above sampling generated a parallel-beam sinogram,\n",
    "but one could make a fan-beam sinogram by sampling `(r, ϕ)` appropriately."
   ],
   "metadata": {}
  },
  {
   "cell_type": "markdown",
   "source": [
    "### Fourier-slice theorem illustration"
   ],
   "metadata": {}
  },
  {
   "cell_type": "markdown",
   "source": [
    "Pick one particular view angle (55°) and look at its slice and spectra."
   ],
   "metadata": {}
  },
  {
   "outputs": [],
   "cell_type": "code",
   "source": [
    "ia = argmin(abs.(ϕ .- 55°))\n",
    "slice = sino[:,ia]\n",
    "slice_fft = myfft(slice) * dr\n",
    "ϕd = round(rad2deg(ϕ[ia]), digits=1)\n",
    "\n",
    "kx, ky = (fr * cos(ϕ[ia]), fr * sin(ϕ[ia])) # Fourier-slice theorem\n",
    "slice_ft = spectrum(ob).(kx, ky)\n",
    "errs = maximum(abs, slice_ft - slice_fft) / maximum(abs, slice_ft)\n",
    "@assert errs < 4e-4\n",
    "\n",
    "p3 = plot(r, slice, title=\"profile at ϕ = $ϕd\", label=\"\")\n",
    "p4 = plot(title=\"1D spectra\")\n",
    "scatter!(fr, abs.(slice_fft), label=\"abs fft\", color=:blue)\n",
    "scatter!(fr, real(slice_fft), label=\"real fft\", color=:green)\n",
    "scatter!(fr, imag(slice_fft), label=\"imag fft\", color=:red,\n",
    "    xlims=(-1,1) .* (0.08/mm))\n",
    "\n",
    "plot!(fr, abs.(slice_ft), label=\"abs\", color=:blue)\n",
    "plot!(fr, real(slice_ft), label=\"real\", color=:green)\n",
    "plot!(fr, imag(slice_ft), label=\"imag\", color=:red)\n",
    "plot(p1, p5, p3, p4)"
   ],
   "metadata": {},
   "execution_count": null
  },
  {
   "cell_type": "markdown",
   "source": [
    "The good agreement between the analytical spectra (solid lines)\n",
    "and the DFT samples (disks)\n",
    "validates that `phantom`, `radon`, and `spectrum`\n",
    "are all self consistent\n",
    "for this shape."
   ],
   "metadata": {}
  },
  {
   "cell_type": "markdown",
   "source": [
    "---\n",
    "\n",
    "*This notebook was generated using [Literate.jl](https://github.com/fredrikekre/Literate.jl).*"
   ],
   "metadata": {}
  }
 ],
 "nbformat_minor": 3,
 "metadata": {
  "language_info": {
   "file_extension": ".jl",
   "mimetype": "application/julia",
   "name": "julia",
   "version": "1.8.1"
  },
  "kernelspec": {
   "name": "julia-1.8",
   "display_name": "Julia 1.8.1",
   "language": "julia"
  }
 },
 "nbformat": 4
}
