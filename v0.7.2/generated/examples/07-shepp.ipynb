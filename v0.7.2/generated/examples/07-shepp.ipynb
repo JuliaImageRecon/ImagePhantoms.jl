{
 "cells": [
  {
   "cell_type": "markdown",
   "source": [
    "# Shepp-Logan Phantoms"
   ],
   "metadata": {}
  },
  {
   "cell_type": "markdown",
   "source": [
    "This page illustrates the Shepp-Logan phantoms in the Julia package\n",
    "[`ImagePhantoms`](https://github.com/JuliaImageRecon/ImagePhantoms.jl).\n",
    "\n",
    "This page was generated from a single Julia file:\n",
    "[07-shepp.jl](https://github.com/JuliaImageRecon/ImagePhantoms.jl/blob/main/docs/lit/examples/07-shepp.jl)."
   ],
   "metadata": {}
  },
  {
   "cell_type": "markdown",
   "source": [
    "### Setup"
   ],
   "metadata": {}
  },
  {
   "cell_type": "markdown",
   "source": [
    "Packages needed here."
   ],
   "metadata": {}
  },
  {
   "outputs": [],
   "cell_type": "code",
   "source": [
    "using ImagePhantoms: shepp_logan, SouthPark\n",
    "using ImagePhantoms: SheppLoganToft, SheppLoganEmis, SheppLoganBrainWeb\n",
    "using ImagePhantoms: ellipse_parameters, ellipse, phantom\n",
    "using MIRTjim: jim, prompt\n",
    "using Unitful: g, cm"
   ],
   "metadata": {},
   "execution_count": null
  },
  {
   "cell_type": "markdown",
   "source": [
    "The following line is helpful when running this file as a script;\n",
    "this way it will prompt user to hit a key after each figure is displayed."
   ],
   "metadata": {}
  },
  {
   "outputs": [],
   "cell_type": "code",
   "source": [
    "isinteractive() ? jim(:prompt, true) : prompt(:draw);"
   ],
   "metadata": {},
   "execution_count": null
  },
  {
   "cell_type": "markdown",
   "source": [
    "### Overview"
   ],
   "metadata": {}
  },
  {
   "cell_type": "markdown",
   "source": [
    "There are several variations of the Shepp-Logan phantom available."
   ],
   "metadata": {}
  },
  {
   "cell_type": "markdown",
   "source": [
    "## CT version\n",
    "\n",
    "Original version from:\n",
    "Larry A Shepp, Benjamin F Logan,\n",
    "\"The Fourier reconstruction of a head section,\"\n",
    "IEEE Transactions on Nuclear Science, 21(3):21-42, June 1974.\n",
    "[doi](http://doi.org/10.1109/TNS.1974.6499235)\n",
    "\n",
    "This (default) version has low soft tissue contrast,\n",
    "so it usually should be displayed\n",
    "with a narrow window the using `clim` option:"
   ],
   "metadata": {}
  },
  {
   "outputs": [],
   "cell_type": "code",
   "source": [
    "image1 = shepp_logan(256) # CT version by default\n",
    "jim(image1, \"SheppLogan (original CT version)\", clim=(0.95, 1.05))"
   ],
   "metadata": {},
   "execution_count": null
  },
  {
   "cell_type": "markdown",
   "source": [
    "## Over-sampling\n",
    "\n",
    "When generating ellipse phantoms,\n",
    "it is generally preferable\n",
    "to \"over-sample\" the ellipse values within each pixel\n",
    "to account for partial volume effect.\n",
    "A factor of 3 over-sampling (along both axes) typically suffices,\n",
    "so this factor is the default for the `shepp_logan` method.\n",
    "Here is how the phantom image looks without over-sampling:"
   ],
   "metadata": {}
  },
  {
   "outputs": [],
   "cell_type": "code",
   "source": [
    "image1o = shepp_logan(256; oversample=1)\n",
    "jim(image1o, \"No over sampling\", clim=(0.95,1.05))"
   ],
   "metadata": {},
   "execution_count": null
  },
  {
   "cell_type": "markdown",
   "source": [
    "Note that boundaries of the interior ellipses look smoother\n",
    "in the original version with the default 3× over-sampling.\n",
    "Most of the remaining examples use the recommended default over-sampling."
   ],
   "metadata": {}
  },
  {
   "cell_type": "markdown",
   "source": [
    "## Units\n",
    "\n",
    "The original Shepp-Logan phantom\n",
    "in the paper as cited above\n",
    "did not give any units\n",
    "for the grayscale values,\n",
    "but the values were described\n",
    "as \"densities\" and indeed the values\n",
    "are reasonable for head CT scans\n",
    "if interpreted as having g/cm³ units.\n",
    "Here is a version with units."
   ],
   "metadata": {}
  },
  {
   "outputs": [],
   "cell_type": "code",
   "source": [
    "image1u = image1 * g/cm^3\n",
    "jim(image1u, \"SheppLogan with density units\", clim=(0.95,1.05))"
   ],
   "metadata": {},
   "execution_count": null
  },
  {
   "cell_type": "markdown",
   "source": [
    "## Toft version\n",
    "\n",
    "This version is from:\n",
    "Toft, Peter Aundal & Sørensen, John Aasted\n",
    "\"The Radon transform-theory and implementation,\"\n",
    "Technical University of Denmark (DTU), 1996. Page 201.\n",
    "[pdf](https://files.openpdfs.org/1ra51GP6gJO.pdf)"
   ],
   "metadata": {}
  },
  {
   "outputs": [],
   "cell_type": "code",
   "source": [
    "image2 = shepp_logan(256, SheppLoganToft())\n",
    "jim(image2, \"SheppLoganToft\")"
   ],
   "metadata": {},
   "execution_count": null
  },
  {
   "cell_type": "markdown",
   "source": [
    "## Emission tomography version\n",
    "\n",
    "This version has low intensity for the skull\n",
    "because typical PET/SPECT radiotracers\n",
    "do not accumulate in bone regions.\n",
    "It is probably also useful for MRI,\n",
    "because typical MRI scans\n",
    "have low signal from bone."
   ],
   "metadata": {}
  },
  {
   "outputs": [],
   "cell_type": "code",
   "source": [
    "image3 = shepp_logan(256, SheppLoganEmis())\n",
    "jim(image3, \"SheppLoganEmis\")"
   ],
   "metadata": {},
   "execution_count": null
  },
  {
   "cell_type": "markdown",
   "source": [
    "## BrainWeb version\n",
    "\n",
    "This version was inspired by the\n",
    "[BrainWeb](https://brainweb.bic.mni.mcgill.ca)\n",
    "phantoms that have integer indices\n",
    "for each of the different regions.\n",
    "It should not be used directly,\n",
    "but rather one should assign meaningful intensity values\n",
    "to each of the integer indices."
   ],
   "metadata": {}
  },
  {
   "outputs": [],
   "cell_type": "code",
   "source": [
    "image4 = shepp_logan(256, SheppLoganBrainWeb())\n",
    "jim(image4, \"SheppLoganBrainWeb\")"
   ],
   "metadata": {},
   "execution_count": null
  },
  {
   "cell_type": "markdown",
   "source": [
    "For the BrainWeb version, there is no over-sampling by default,\n",
    "to preserve the integer indices."
   ],
   "metadata": {}
  },
  {
   "cell_type": "markdown",
   "source": [
    "## Disjoint middle ellipses\n",
    "\n",
    "Sometimes it can be more convenient\n",
    "to have the middle ellipses be non-overlapping:"
   ],
   "metadata": {}
  },
  {
   "outputs": [],
   "cell_type": "code",
   "source": [
    "params = ellipse_parameters(SheppLoganBrainWeb(), disjoint=true)\n",
    "params = [(p[1:5]..., i) for (i, p) in enumerate(params)]\n",
    "ob = ellipse(params)\n",
    "x = range(-0.4, 0.4, 206)\n",
    "y = range(-0.5, 0.5, 256)\n",
    "oversample = 3\n",
    "image5 = phantom(x, y, ob, oversample)\n",
    "jim(x, y, image5, \"Disjoint\"; aspect_ratio = 1)"
   ],
   "metadata": {},
   "execution_count": null
  },
  {
   "cell_type": "markdown",
   "source": [
    "## Comedy version"
   ],
   "metadata": {}
  },
  {
   "outputs": [],
   "cell_type": "code",
   "source": [
    "image6 = shepp_logan(256, SouthPark(); fovs=(1,1))\n",
    "jim(image6, \"SouthPark\")"
   ],
   "metadata": {},
   "execution_count": null
  },
  {
   "cell_type": "markdown",
   "source": [
    "---\n",
    "\n",
    "*This notebook was generated using [Literate.jl](https://github.com/fredrikekre/Literate.jl).*"
   ],
   "metadata": {}
  }
 ],
 "nbformat_minor": 3,
 "metadata": {
  "language_info": {
   "file_extension": ".jl",
   "mimetype": "application/julia",
   "name": "julia",
   "version": "1.8.3"
  },
  "kernelspec": {
   "name": "julia-1.8",
   "display_name": "Julia 1.8.3",
   "language": "julia"
  }
 },
 "nbformat": 4
}
