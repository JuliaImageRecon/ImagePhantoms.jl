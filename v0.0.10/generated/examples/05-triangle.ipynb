{
 "cells": [
  {
   "cell_type": "markdown",
   "source": [
    "# Triangle"
   ],
   "metadata": {}
  },
  {
   "cell_type": "markdown",
   "source": [
    "This page illustrates the `Triangle` shape in the Julia package\n",
    "[`ImagePhantoms`](https://github.com/JuliaImageRecon/ImagePhantoms.jl).\n",
    "\n",
    "This page was generated from a single Julia file:\n",
    "[05-triangle.jl](https://github.com/JuliaImageRecon/ImagePhantoms.jl/blob/main/docs/lit/examples/05-triangle.jl)."
   ],
   "metadata": {}
  },
  {
   "cell_type": "markdown",
   "source": [
    "### Setup"
   ],
   "metadata": {}
  },
  {
   "cell_type": "markdown",
   "source": [
    "Packages needed here."
   ],
   "metadata": {}
  },
  {
   "outputs": [],
   "cell_type": "code",
   "source": [
    "using ImagePhantoms: Triangle, phantom, radon, spectrum\n",
    "using ImageGeoms: ImageGeom, axesf\n",
    "using MIRTjim: jim, prompt\n",
    "using FFTW: fft, fftshift\n",
    "using Unitful: mm, unit, °\n",
    "using UnitfulRecipes\n",
    "using Plots: plot, plot!, scatter!, default; default(markerstrokecolor=:auto)"
   ],
   "metadata": {},
   "execution_count": null
  },
  {
   "cell_type": "markdown",
   "source": [
    "The following line is helpful when running this example.jl file as a script;\n",
    "this way it will prompt user to hit a key after each figure is displayed."
   ],
   "metadata": {}
  },
  {
   "outputs": [],
   "cell_type": "code",
   "source": [
    "isinteractive() ? jim(:prompt, true) : prompt(:draw);"
   ],
   "metadata": {},
   "execution_count": null
  },
  {
   "cell_type": "markdown",
   "source": [
    "### Overview"
   ],
   "metadata": {}
  },
  {
   "cell_type": "markdown",
   "source": [
    "For completeness, this package includes a triangle shape\n",
    "for constructing 2D digital image phantoms.\n",
    "(One could describe quite complicated phantoms with a triangular mesh.)\n",
    "The basic shape here is an equilateral triangle\n",
    "whose base is [-1/2,1/2] along the x axis,\n",
    "pointing upwards along the y axis.\n",
    "When defining such a `Triangle` object one can specify\n",
    "its center, widths, angle and value.\n",
    "All of the methods in `ImagePhantoms` support physical units,\n",
    "so we use such units throughout this example.\n",
    "(Using units is recommended but not required.)\n",
    "\n",
    "Define a triangle object, using physical units."
   ],
   "metadata": {}
  },
  {
   "outputs": [],
   "cell_type": "code",
   "source": [
    "width = (2mm, 8mm)\n",
    "ob = Triangle((4mm, 3mm), width, π/6, 1.0f0)"
   ],
   "metadata": {},
   "execution_count": null
  },
  {
   "cell_type": "markdown",
   "source": [
    "### Phantom image using `phantom`"
   ],
   "metadata": {}
  },
  {
   "cell_type": "markdown",
   "source": [
    "Make a digital image of it using `phantom` and display it."
   ],
   "metadata": {}
  },
  {
   "outputs": [],
   "cell_type": "code",
   "source": [
    "dx = 0.02mm\n",
    "dy = 0.025mm\n",
    "(M,N) = (2^10,2^10+2)\n",
    "x = (-M÷2:M÷2-1) * dx\n",
    "y = (-N÷2:N÷2-1) * dy\n",
    "img = phantom(x, y, [ob])\n",
    "jim(x, y, img)"
   ],
   "metadata": {},
   "execution_count": null
  },
  {
   "cell_type": "markdown",
   "source": [
    "Hereafter we use `ImageGeoms` to simplify the indexing."
   ],
   "metadata": {}
  },
  {
   "outputs": [],
   "cell_type": "code",
   "source": [
    "ig = ImageGeom(dims=(M,N), deltas=(dx,dy), offsets=(0.5,0.5))\n",
    "@assert all(axes(ig) .≈ (x,y))\n",
    "p1 = jim(axes(ig)..., img, \"Triangle phantom\", xlabel=\"x\", ylabel=\"y\")"
   ],
   "metadata": {},
   "execution_count": null
  },
  {
   "cell_type": "markdown",
   "source": [
    "### Spectrum using `spectrum`"
   ],
   "metadata": {}
  },
  {
   "cell_type": "markdown",
   "source": [
    "There are two ways to examine the spectrum of this image:\n",
    "* using the analytical Fourier transform of the triangle via `spectrum`\n",
    "* applying the DFT via FFT to the digital image.\n",
    "Because the shape has units `mm`, the spectra axes have units cycles/mm."
   ],
   "metadata": {}
  },
  {
   "outputs": [],
   "cell_type": "code",
   "source": [
    "zscale = 1 / (sqrt(3) / 4 * prod(width)) # normalize spectra by area\n",
    "spectrum_exact = spectrum(axesf(ig)..., [ob]) * zscale\n",
    "sp = z -> max(log10(abs(z)/oneunit(abs(z))), -6) # log-scale for display\n",
    "clim = (-6, 0) # colorbar limit for display\n",
    "(xlabel, ylabel) = (\"ν₁\", \"ν₂\")\n",
    "p2 = jim(axesf(ig)..., sp.(spectrum_exact), \"log10|Spectrum|\"; clim, xlabel, ylabel)"
   ],
   "metadata": {},
   "execution_count": null
  },
  {
   "cell_type": "markdown",
   "source": [
    "Sadly `fft` cannot handle units currently, so this function is a work-around:"
   ],
   "metadata": {}
  },
  {
   "outputs": [],
   "cell_type": "code",
   "source": [
    "function myfft(x)\n",
    "    u = unit(eltype(x))\n",
    "    return fftshift(fft(fftshift(x) / u)) * u\n",
    "end\n",
    "\n",
    "spectrum_fft = myfft(img) * dx * dy * zscale\n",
    "p3 = jim(axesf(ig)..., sp.(spectrum_fft), \"log10|DFT|\"; clim, xlabel, ylabel)"
   ],
   "metadata": {},
   "execution_count": null
  },
  {
   "cell_type": "markdown",
   "source": [
    "Compare the DFT and analytical spectra to validate the code"
   ],
   "metadata": {}
  },
  {
   "outputs": [],
   "cell_type": "code",
   "source": [
    "@assert maximum(abs, spectrum_exact - spectrum_fft) /\n",
    "        maximum(abs, spectrum_exact) < 2e-2\n",
    "p4 = jim(axesf(ig)..., abs.(spectrum_fft - spectrum_exact), \"Difference\"; xlabel, ylabel)\n",
    "jim(p1, p4, p2, p3)"
   ],
   "metadata": {},
   "execution_count": null
  },
  {
   "cell_type": "markdown",
   "source": [
    "### Radon transform using `radon`"
   ],
   "metadata": {}
  },
  {
   "cell_type": "markdown",
   "source": [
    "Examine the Radon transform of the triangle using `radon`,\n",
    "and validate it using the projection-slice theorem aka Fourier-slice theorem."
   ],
   "metadata": {}
  },
  {
   "outputs": [],
   "cell_type": "code",
   "source": [
    "dr = 0.02mm # radial sample spacing\n",
    "nr = 2^10 # radial sinogram bins\n",
    "r = (-nr÷2:nr÷2-1) * dr # radial samples\n",
    "fr = (-nr÷2:nr÷2-1) / nr / dr # corresponding spectral axis\n",
    "ϕ = deg2rad.(0:180) # * Unitful.rad # todo round unitful Unitful.°\n",
    "sino = radon(ob).(r, ϕ') # sample Radon transform of a single shape object\n",
    "p5 = jim(r, rad2deg.(ϕ), sino; aspect_ratio=:none, title=\"sinogram\", yflip=false, xlabel=\"r\", ylabel=\"ϕ\")"
   ],
   "metadata": {},
   "execution_count": null
  },
  {
   "cell_type": "markdown",
   "source": [
    "The maximum sinogram value is about 7mm, which makes sense\n",
    "for a triangle whose height is `8mm * sqrt(3) / 2` and whose base is 2mm,\n",
    "so the longest side is `sqrt(1^2 + (8mm * sqrt(3) / 2)^2) =` 7 mm.\n",
    "\n",
    "The above sampling generated a parallel-beam sinogram,\n",
    "but one could make a fan-beam sinogram by sampling `(r, ϕ)` appropriately."
   ],
   "metadata": {}
  },
  {
   "cell_type": "markdown",
   "source": [
    "### Fourier-slice theorem illustration"
   ],
   "metadata": {}
  },
  {
   "cell_type": "markdown",
   "source": [
    "Pick one particular view angle (55°) and look at its slice and spectra."
   ],
   "metadata": {}
  },
  {
   "outputs": [],
   "cell_type": "code",
   "source": [
    "ia = argmin(abs.(ϕ .- 55°))\n",
    "slice = sino[:,ia]\n",
    "slice_fft = myfft(slice) * dr\n",
    "angle = round(rad2deg(ϕ[ia]), digits=1)\n",
    "\n",
    "kx, ky = (fr * cos(ϕ[ia]), fr * sin(ϕ[ia])) # Fourier-slice theorem\n",
    "slice_ft = spectrum(ob).(kx, ky)\n",
    "@assert maximum(abs, slice_ft - slice_fft) / maximum(abs, slice_ft) < 2e-4\n",
    "\n",
    "p3 = plot(r, slice, title=\"profile at ϕ = $angle\", label=\"\")\n",
    "p4 = plot(title=\"1D spectra\")\n",
    "scatter!(fr, abs.(slice_fft), label=\"abs fft\", color=:blue)\n",
    "scatter!(fr, real(slice_fft), label=\"real fft\", color=:green)\n",
    "scatter!(fr, imag(slice_fft), label=\"imag fft\", color=:red, xlims=(-1,1).*(1.0/mm))\n",
    "\n",
    "plot!(fr, abs.(slice_ft), label=\"abs\", color=:blue)\n",
    "plot!(fr, real(slice_ft), label=\"real\", color=:green)\n",
    "plot!(fr, imag(slice_ft), label=\"imag\", color=:red)\n",
    "plot(p1, p5, p3, p4)"
   ],
   "metadata": {},
   "execution_count": null
  },
  {
   "cell_type": "markdown",
   "source": [
    "The good agreement between the analytical spectra (solid lines)\n",
    "and the DFT samples (disks)\n",
    "validates that `phantom`, `radon`, and `spectrum`\n",
    "are all self consistent for this `Triangle` object."
   ],
   "metadata": {}
  },
  {
   "cell_type": "markdown",
   "source": [
    "### Spectrum"
   ],
   "metadata": {}
  },
  {
   "cell_type": "markdown",
   "source": [
    "The spectrum of a triangle is not widely available;\n",
    "for a derivation, see this\n",
    "[overleaf file.](https://www.overleaf.com/read/pcrttymdkdcx)"
   ],
   "metadata": {}
  },
  {
   "cell_type": "markdown",
   "source": [
    "---\n",
    "\n",
    "*This notebook was generated using [Literate.jl](https://github.com/fredrikekre/Literate.jl).*"
   ],
   "metadata": {}
  }
 ],
 "nbformat_minor": 3,
 "metadata": {
  "language_info": {
   "file_extension": ".jl",
   "mimetype": "application/julia",
   "name": "julia",
   "version": "1.7.2"
  },
  "kernelspec": {
   "name": "julia-1.7",
   "display_name": "Julia 1.7.2",
   "language": "julia"
  }
 },
 "nbformat": 4
}
