{
 "cells": [
  {
   "cell_type": "markdown",
   "source": [
    "# Shepp-Logan Phantoms"
   ],
   "metadata": {}
  },
  {
   "cell_type": "markdown",
   "source": [
    "This page illustrates the Shepp-Logan phantoms in the Julia package\n",
    "[`ImagePhantoms`](https://github.com/JuliaImageRecon/ImagePhantoms.jl).\n",
    "\n",
    "This page was generated from a single Julia file:\n",
    "[07-shepp.jl](https://github.com/JuliaImageRecon/ImagePhantoms.jl/blob/main/docs/lit/examples/07-shepp.jl)."
   ],
   "metadata": {}
  },
  {
   "cell_type": "markdown",
   "source": [
    "### Setup"
   ],
   "metadata": {}
  },
  {
   "cell_type": "markdown",
   "source": [
    "Packages needed here."
   ],
   "metadata": {}
  },
  {
   "outputs": [],
   "cell_type": "code",
   "source": [
    "using ImagePhantoms\n",
    "using ImageGeoms: ImageGeom, axesf\n",
    "using MIRTjim: jim, prompt"
   ],
   "metadata": {},
   "execution_count": null
  },
  {
   "cell_type": "markdown",
   "source": [
    "The following line is helpful when running this example.jl file as a script;\n",
    "this way it will prompt user to hit a key after each figure is displayed."
   ],
   "metadata": {}
  },
  {
   "outputs": [],
   "cell_type": "code",
   "source": [
    "isinteractive() ? jim(:prompt, true) : prompt(:draw);"
   ],
   "metadata": {},
   "execution_count": null
  },
  {
   "cell_type": "markdown",
   "source": [
    "### Overview"
   ],
   "metadata": {}
  },
  {
   "cell_type": "markdown",
   "source": [
    "There are several variations of the Shepp-Logan phantom available."
   ],
   "metadata": {}
  },
  {
   "cell_type": "markdown",
   "source": [
    "### CT version"
   ],
   "metadata": {}
  },
  {
   "cell_type": "markdown",
   "source": [
    "Original version from:\n",
    "Larry A Shepp, Benjamin F Logan,\n",
    "\"The Fourier reconstruction of a head section,\"\n",
    "IEEE Transactions on Nuclear Science, 21(3):21-42, June 1974.\n",
    "[doi](http://doi.org/10.1109/TNS.1974.6499235)\n",
    "\n",
    "This (default) version has low soft tissue contrast,\n",
    "so it usually should be displayed\n",
    "with a narrow window the using `clim` option:"
   ],
   "metadata": {}
  },
  {
   "outputs": [],
   "cell_type": "code",
   "source": [
    "image1 = shepp_logan(256) # CT version by default\n",
    "jim(image1, \"SheppLogan (original CT version)\", clim=(0.95, 1.05))"
   ],
   "metadata": {},
   "execution_count": null
  },
  {
   "cell_type": "markdown",
   "source": [
    "### Over-sampling"
   ],
   "metadata": {}
  },
  {
   "cell_type": "markdown",
   "source": [
    "When generating ellipse phantoms,\n",
    "it is generally preferable\n",
    "to \"over-sample\" the ellipse values within each pixel\n",
    "to account for partial volume effect.\n",
    "A factor of 3 over-sampling (along both axes) typically suffices,\n",
    "so this factor is the default for the `shepp_logan` method.\n",
    "Here is how the phantom image looks without over-sampling:"
   ],
   "metadata": {}
  },
  {
   "outputs": [],
   "cell_type": "code",
   "source": [
    "image1o = shepp_logan(256; oversample=1)\n",
    "jim(image1o, \"No over sampling\", clim=(0.95,1.05))"
   ],
   "metadata": {},
   "execution_count": null
  },
  {
   "cell_type": "markdown",
   "source": [
    "Note that boundaries of the interior ellipses look smoother\n",
    "in the original version with the default 3× over-sampling.\n",
    "Most of the remaining examples use the recommended default over-sampling."
   ],
   "metadata": {}
  },
  {
   "cell_type": "markdown",
   "source": [
    "### Toft version"
   ],
   "metadata": {}
  },
  {
   "cell_type": "markdown",
   "source": [
    "This version is from:\n",
    "Toft, Peter Aundal & Sørensen, John Aasted\n",
    "\"The Radon transform-theory and implementation,\"\n",
    "Technical University of Denmark (DTU), 1996. Page 201.\n",
    "[pdf](https://files.openpdfs.org/1ra51GP6gJO.pdf)"
   ],
   "metadata": {}
  },
  {
   "outputs": [],
   "cell_type": "code",
   "source": [
    "image2 = shepp_logan(256, SheppLoganToft())\n",
    "jim(image2, \"SheppLoganToft\")"
   ],
   "metadata": {},
   "execution_count": null
  },
  {
   "cell_type": "markdown",
   "source": [
    "### Emission tomography version"
   ],
   "metadata": {}
  },
  {
   "cell_type": "markdown",
   "source": [
    "This version has low intensity for the skull\n",
    "because typical PET/SPECT radiotracers\n",
    "do not accumulate in bone regions.\n",
    "It is probably also useful for MRI,\n",
    "because typical MRI scans\n",
    "have low signal from bone."
   ],
   "metadata": {}
  },
  {
   "outputs": [],
   "cell_type": "code",
   "source": [
    "image3 = shepp_logan(256, SheppLoganEmis())\n",
    "jim(image3, \"SheppLoganEmis\")"
   ],
   "metadata": {},
   "execution_count": null
  },
  {
   "cell_type": "markdown",
   "source": [
    "### BrainWeb version"
   ],
   "metadata": {}
  },
  {
   "cell_type": "markdown",
   "source": [
    "This version was inspired by the\n",
    "[BrainWeb](https://brainweb.bic.mni.mcgill.ca)\n",
    "phantoms that have integer indices\n",
    "for each of the different regions.\n",
    "It should not be used directly,\n",
    "but rather one should assign meaningful intensity values\n",
    "to each of the integer indices."
   ],
   "metadata": {}
  },
  {
   "outputs": [],
   "cell_type": "code",
   "source": [
    "image4 = shepp_logan(256, SheppLoganBrainWeb())\n",
    "jim(image4, \"SheppLoganBrainWeb\")"
   ],
   "metadata": {},
   "execution_count": null
  },
  {
   "cell_type": "markdown",
   "source": [
    "For the BrainWeb version, there is no over-sampling by default,\n",
    "to preserve the integer indices."
   ],
   "metadata": {}
  },
  {
   "cell_type": "markdown",
   "source": [
    "### Disjoint middle ellipses"
   ],
   "metadata": {}
  },
  {
   "cell_type": "markdown",
   "source": [
    "Sometimes it can be more convenient\n",
    "to have the middle ellipses be non-overlapping:"
   ],
   "metadata": {}
  },
  {
   "outputs": [],
   "cell_type": "code",
   "source": [
    "ob = ellipse_parameters(SheppLoganBrainWeb(), disjoint=true)\n",
    "ob[:,end] = 1:10\n",
    "ob = Ellipse(ob)\n",
    "x = LinRange(-0.4, 0.4, 206)\n",
    "y = LinRange(-0.5, 0.5, 256)\n",
    "oversample = 3\n",
    "image5 = phantom(x, y, ob, oversample)\n",
    "jim(x, y, image5, \"Disjoint\")"
   ],
   "metadata": {},
   "execution_count": null
  },
  {
   "cell_type": "markdown",
   "source": [
    "### Comedy version"
   ],
   "metadata": {}
  },
  {
   "outputs": [],
   "cell_type": "code",
   "source": [
    "image6 = shepp_logan(256, SouthPark(); fovs=(1,1))\n",
    "jim(image6, \"SouthPark\")"
   ],
   "metadata": {},
   "execution_count": null
  },
  {
   "cell_type": "markdown",
   "source": [
    "---\n",
    "\n",
    "*This notebook was generated using [Literate.jl](https://github.com/fredrikekre/Literate.jl).*"
   ],
   "metadata": {}
  }
 ],
 "nbformat_minor": 3,
 "metadata": {
  "language_info": {
   "file_extension": ".jl",
   "mimetype": "application/julia",
   "name": "julia",
   "version": "1.7.2"
  },
  "kernelspec": {
   "name": "julia-1.7",
   "display_name": "Julia 1.7.2",
   "language": "julia"
  }
 },
 "nbformat": 4
}
