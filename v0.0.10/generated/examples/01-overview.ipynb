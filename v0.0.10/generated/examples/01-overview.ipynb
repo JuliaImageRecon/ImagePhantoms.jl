{
 "cells": [
  {
   "cell_type": "markdown",
   "source": [
    "# ImagePhantoms overview"
   ],
   "metadata": {}
  },
  {
   "cell_type": "markdown",
   "source": [
    "This page explains the Julia package\n",
    "[`ImagePhantoms`](https://github.com/JuliaImageRecon/ImagePhantoms.jl).\n",
    "\n",
    "This page was generated from a single Julia file:\n",
    "[01-overview.jl](https://github.com/JuliaImageRecon/ImagePhantoms.jl/blob/main/docs/lit/examples/01-overview.jl)."
   ],
   "metadata": {}
  },
  {
   "cell_type": "markdown",
   "source": [
    "### Setup"
   ],
   "metadata": {}
  },
  {
   "cell_type": "markdown",
   "source": [
    "Packages needed here."
   ],
   "metadata": {}
  },
  {
   "outputs": [],
   "cell_type": "code",
   "source": [
    "using ImagePhantoms\n",
    "using ImageGeoms: ImageGeom, axesf\n",
    "using MIRTjim: jim, prompt\n",
    "using UnitfulRecipes\n",
    "using Unitful: mm\n",
    "using InteractiveUtils: versioninfo"
   ],
   "metadata": {},
   "execution_count": null
  },
  {
   "cell_type": "markdown",
   "source": [
    "The following line is helpful when running this example.jl file as a script;\n",
    "this way it will prompt user to hit a key after each figure is displayed."
   ],
   "metadata": {}
  },
  {
   "outputs": [],
   "cell_type": "code",
   "source": [
    "isinteractive() ? jim(:prompt, true) : prompt(:draw);"
   ],
   "metadata": {},
   "execution_count": null
  },
  {
   "cell_type": "markdown",
   "source": [
    "### Overview"
   ],
   "metadata": {}
  },
  {
   "cell_type": "markdown",
   "source": [
    "When developing image reconstruction methods,\n",
    "it can be helpful to simulate data (e.g., sinograms)\n",
    "using software-defined images called phantoms.\n",
    "\n",
    "The simplest method here is to make a Shepp-Logan phantom image\n",
    "similar its use in other packages."
   ],
   "metadata": {}
  },
  {
   "outputs": [],
   "cell_type": "code",
   "source": [
    "image = shepp_logan(256) # CT version by default\n",
    "jim(image, \"SheppLogan\", clim=(0.9, 1.1), yflip=false)"
   ],
   "metadata": {},
   "execution_count": null
  },
  {
   "cell_type": "markdown",
   "source": [
    "### Sinograms and spectra"
   ],
   "metadata": {}
  },
  {
   "cell_type": "markdown",
   "source": [
    "Often for image reconstruction algorithm development,\n",
    "we need not only the phantom image, but also its sinogram and spectrum.\n",
    "We start with the vector of ellipses that defines the phantom,\n",
    "using a typical field of view (FOV) of 200mm for a head:"
   ],
   "metadata": {}
  },
  {
   "outputs": [],
   "cell_type": "code",
   "source": [
    "objects = shepp_logan(SheppLoganToft(); fovs=(200mm,200mm))"
   ],
   "metadata": {},
   "execution_count": null
  },
  {
   "cell_type": "markdown",
   "source": [
    "From that collection we can compute images, sinograms and spectra.\n",
    "It is convenient (but not required)\n",
    "to use `ImageGeoms` to help with the sampling."
   ],
   "metadata": {}
  },
  {
   "outputs": [],
   "cell_type": "code",
   "source": [
    "ig = ImageGeom(dims=(200,256), deltas=(1mm,1mm))\n",
    "image = phantom(axes(ig)..., objects)\n",
    "jim(axes(ig)..., image, xlabel=\"x\", ylabel=\"y\", title=\"SheppLoganToft\")"
   ],
   "metadata": {},
   "execution_count": null
  },
  {
   "cell_type": "markdown",
   "source": [
    "Here is the sinogram corresponding to this phantom,\n",
    "computed analytically from the ellipse parameters:"
   ],
   "metadata": {}
  },
  {
   "outputs": [],
   "cell_type": "code",
   "source": [
    "r = LinRange(-100mm,100mm,401)\n",
    "ϕ = deg2rad.(0:180)\n",
    "sino = radon(r, ϕ, objects)\n",
    "jim(r, ϕ, sino, title=\"Sinogram\", yflip=false, aspect_ratio=:none)"
   ],
   "metadata": {},
   "execution_count": null
  },
  {
   "cell_type": "markdown",
   "source": [
    "Here is the 2D spectrum (Fourier transform) of this phantom,\n",
    "computed analytically from the ellipse parameters:"
   ],
   "metadata": {}
  },
  {
   "outputs": [],
   "cell_type": "code",
   "source": [
    "kspace = spectrum(axesf(ig)..., objects)\n",
    "jim(axesf(ig)..., log10.(abs.(kspace/(1mm)^2)), xlabel=\"ν₁\", ylabel=\"ν₂\", title=\"log10|Spectrum|\")"
   ],
   "metadata": {},
   "execution_count": null
  },
  {
   "cell_type": "markdown",
   "source": [
    "## Reproducibility"
   ],
   "metadata": {}
  },
  {
   "cell_type": "markdown",
   "source": [
    "This page was generated with the following version of Julia:"
   ],
   "metadata": {}
  },
  {
   "outputs": [],
   "cell_type": "code",
   "source": [
    "io = IOBuffer()\n",
    "versioninfo(io)\n",
    "split(String(take!(io)), '\\n')"
   ],
   "metadata": {},
   "execution_count": null
  },
  {
   "cell_type": "markdown",
   "source": [
    "And with the following package versions"
   ],
   "metadata": {}
  },
  {
   "outputs": [],
   "cell_type": "code",
   "source": [
    "import Pkg; Pkg.status()"
   ],
   "metadata": {},
   "execution_count": null
  },
  {
   "cell_type": "markdown",
   "source": [
    "---\n",
    "\n",
    "*This notebook was generated using [Literate.jl](https://github.com/fredrikekre/Literate.jl).*"
   ],
   "metadata": {}
  }
 ],
 "nbformat_minor": 3,
 "metadata": {
  "language_info": {
   "file_extension": ".jl",
   "mimetype": "application/julia",
   "name": "julia",
   "version": "1.7.2"
  },
  "kernelspec": {
   "name": "julia-1.7",
   "display_name": "Julia 1.7.2",
   "language": "julia"
  }
 },
 "nbformat": 4
}
