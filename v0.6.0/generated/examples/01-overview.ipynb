{
 "cells": [
  {
   "cell_type": "markdown",
   "source": [
    "# ImagePhantoms overview"
   ],
   "metadata": {}
  },
  {
   "cell_type": "markdown",
   "source": [
    "This page explains the Julia package\n",
    "[`ImagePhantoms`](https://github.com/JuliaImageRecon/ImagePhantoms.jl).\n",
    "\n",
    "This page was generated from a single Julia file:\n",
    "[01-overview.jl](https://github.com/JuliaImageRecon/ImagePhantoms.jl/blob/main/docs/lit/examples/01-overview.jl)."
   ],
   "metadata": {}
  },
  {
   "cell_type": "markdown",
   "source": [
    "### Setup"
   ],
   "metadata": {}
  },
  {
   "cell_type": "markdown",
   "source": [
    "Packages needed here."
   ],
   "metadata": {}
  },
  {
   "outputs": [],
   "cell_type": "code",
   "source": [
    "import Pkg\n",
    "Pkg.add([\"ImageGeoms\", \"MIRTjim\", \"UnitfulRecipes\", \"Unitful\"])\n",
    "\n",
    "using ImagePhantoms\n",
    "using ImageGeoms: ImageGeom, axesf\n",
    "using MIRTjim: jim, prompt\n",
    "using UnitfulRecipes\n",
    "using Unitful: mm\n",
    "using InteractiveUtils: versioninfo"
   ],
   "metadata": {},
   "execution_count": null
  },
  {
   "cell_type": "markdown",
   "source": [
    "The following line is helpful when running this file as a script;\n",
    "this way it will prompt user to hit a key after each figure is displayed."
   ],
   "metadata": {}
  },
  {
   "outputs": [],
   "cell_type": "code",
   "source": [
    "isinteractive() ? jim(:prompt, true) : prompt(:draw);"
   ],
   "metadata": {},
   "execution_count": null
  },
  {
   "cell_type": "markdown",
   "source": [
    "### Overview"
   ],
   "metadata": {}
  },
  {
   "cell_type": "markdown",
   "source": [
    "When developing image reconstruction methods,\n",
    "it can be helpful to simulate data (e.g., sinograms)\n",
    "using software-defined images called phantoms.\n",
    "\n",
    "The simplest method here is to make a Shepp-Logan phantom image\n",
    "similar its use in other packages."
   ],
   "metadata": {}
  },
  {
   "outputs": [],
   "cell_type": "code",
   "source": [
    "image = shepp_logan(256) # CT version by default\n",
    "jim(image, \"SheppLogan\"; clim=(0.9, 1.1))"
   ],
   "metadata": {},
   "execution_count": null
  },
  {
   "cell_type": "markdown",
   "source": [
    "### Sinograms and spectra"
   ],
   "metadata": {}
  },
  {
   "cell_type": "markdown",
   "source": [
    "Often for image reconstruction algorithm development,\n",
    "we need not only the phantom image, but also its\n",
    "[sinogram, i.e., Radon transform](https://en.wikipedia.org/wiki/Radon_transform)\n",
    "and spectrum.\n",
    "\n",
    "The 2D sinogram coordinate system used here is\n",
    "$$\n",
    "p(r, ϕ) = \\int_{-∞}^{∞} f(r \\cos ϕ - ℓ \\sin ϕ, r \\sin ϕ + ℓ \\cos ϕ) \\, \\mathrm{d} ℓ.\n",
    "$$\n",
    "\n",
    "We start with the vector of ellipses that defines the phantom,\n",
    "using a typical field of view (FOV) of 200mm for a head:"
   ],
   "metadata": {}
  },
  {
   "outputs": [],
   "cell_type": "code",
   "source": [
    "objects = shepp_logan(SheppLoganToft(); fovs=(200mm,200mm))"
   ],
   "metadata": {},
   "execution_count": null
  },
  {
   "cell_type": "markdown",
   "source": [
    "From that collection we can compute images, sinograms and spectra.\n",
    "Use `phantom` to make digital images.\n",
    "It is convenient (but not required)\n",
    "to use `ImageGeoms` to help with the sampling."
   ],
   "metadata": {}
  },
  {
   "outputs": [],
   "cell_type": "code",
   "source": [
    "ig = ImageGeom(dims=(200,256), deltas=(1mm,1mm))\n",
    "image = phantom(axes(ig)..., objects)\n",
    "jim(axes(ig), image, xlabel=\"x\", ylabel=\"y\", title=\"SheppLoganToft\")"
   ],
   "metadata": {},
   "execution_count": null
  },
  {
   "cell_type": "markdown",
   "source": [
    "Here is the sinogram corresponding to this phantom,\n",
    "computed analytically from the ellipse parameters using `radon`:"
   ],
   "metadata": {}
  },
  {
   "outputs": [],
   "cell_type": "code",
   "source": [
    "r = LinRange(-100mm,100mm,401)\n",
    "ϕ = deg2rad.(0:180)\n",
    "sino = radon(r, ϕ, objects)\n",
    "jim(r, ϕ, sino, title=\"Sinogram\")"
   ],
   "metadata": {},
   "execution_count": null
  },
  {
   "cell_type": "markdown",
   "source": [
    "Here is the 2D spectrum (Fourier transform) of this phantom,\n",
    "computed analytically from the ellipse parameters using `spectrum`:"
   ],
   "metadata": {}
  },
  {
   "outputs": [],
   "cell_type": "code",
   "source": [
    "kspace = spectrum(axesf(ig)..., objects)\n",
    "jim(axesf(ig), log10.(abs.(kspace/(1mm)^2)), xlabel=\"ν₁\", ylabel=\"ν₂\", title=\"log10|Spectrum|\")"
   ],
   "metadata": {},
   "execution_count": null
  },
  {
   "cell_type": "markdown",
   "source": [
    "The 2D Fourier transform formula used here is:\n",
    "$F(ν_1, ν_2) = ∫ ∫ f(x,y) \\mathrm{e}^{-ı 2π (ν_1 x + ν_2 y)} \\, \\mathrm{d} x \\mathrm{d} y$,\n",
    "so if $x$ and $y$ have units mm (for example),\n",
    "then the units of the spatial frequency variables\n",
    "$ν_1$ and $ν_2$ are cycles/mm."
   ],
   "metadata": {}
  },
  {
   "cell_type": "markdown",
   "source": [
    "## Reproducibility"
   ],
   "metadata": {}
  },
  {
   "cell_type": "markdown",
   "source": [
    "This page was generated with the following version of Julia:"
   ],
   "metadata": {}
  },
  {
   "outputs": [],
   "cell_type": "code",
   "source": [
    "io = IOBuffer(); versioninfo(io); split(String(take!(io)), '\\n')"
   ],
   "metadata": {},
   "execution_count": null
  },
  {
   "cell_type": "markdown",
   "source": [
    "And with the following package versions"
   ],
   "metadata": {}
  },
  {
   "outputs": [],
   "cell_type": "code",
   "source": [
    "import Pkg; Pkg.status()"
   ],
   "metadata": {},
   "execution_count": null
  },
  {
   "cell_type": "markdown",
   "source": [
    "---\n",
    "\n",
    "*This notebook was generated using [Literate.jl](https://github.com/fredrikekre/Literate.jl).*"
   ],
   "metadata": {}
  }
 ],
 "nbformat_minor": 3,
 "metadata": {
  "language_info": {
   "file_extension": ".jl",
   "mimetype": "application/julia",
   "name": "julia",
   "version": "1.8.2"
  },
  "kernelspec": {
   "name": "julia-1.8",
   "display_name": "Julia 1.8.2",
   "language": "julia"
  }
 },
 "nbformat": 4
}
