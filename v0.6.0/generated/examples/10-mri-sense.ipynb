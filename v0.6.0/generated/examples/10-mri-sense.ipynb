{
 "cells": [
  {
   "cell_type": "markdown",
   "source": [
    "# MRI SENSE"
   ],
   "metadata": {}
  },
  {
   "cell_type": "markdown",
   "source": [
    "This page illustrates the `mri_smap_fit` and `mri_spectra` methods\n",
    "in the Julia package\n",
    "[`ImagePhantoms`](https://github.com/JuliaImageRecon/ImagePhantoms.jl)\n",
    "for performing MRI simulations with realistic sensitivity encoding (SENSE).\n",
    "\n",
    "This page was generated from a single Julia file:\n",
    "[10-mri-sense.jl](https://github.com/JuliaImageRecon/ImagePhantoms.jl/blob/main/docs/lit/examples/10-mri-sense.jl)."
   ],
   "metadata": {}
  },
  {
   "cell_type": "markdown",
   "source": [
    "### Setup"
   ],
   "metadata": {}
  },
  {
   "cell_type": "markdown",
   "source": [
    "Packages needed here."
   ],
   "metadata": {}
  },
  {
   "outputs": [],
   "cell_type": "code",
   "source": [
    "using ImagePhantoms: ellipse_parameters, SheppLoganBrainWeb, ellipse\n",
    "using ImagePhantoms: phantom, mri_smap_fit, mri_spectra\n",
    "using FFTW: fft, fftshift\n",
    "using ImageGeoms: embed\n",
    "using LazyGrids: ndgrid\n",
    "using MIRTjim: jim, prompt\n",
    "using Random: seed!\n",
    "using Unitful: mm"
   ],
   "metadata": {},
   "execution_count": null
  },
  {
   "cell_type": "markdown",
   "source": [
    "The following line is helpful when running this file as a script;\n",
    "this way it will prompt user to hit a key after each figure is displayed."
   ],
   "metadata": {}
  },
  {
   "outputs": [],
   "cell_type": "code",
   "source": [
    "isinteractive() ? jim(:prompt, true) : prompt(:draw);"
   ],
   "metadata": {},
   "execution_count": null
  },
  {
   "cell_type": "markdown",
   "source": [
    "### Overview\n",
    "\n",
    "Modern MRI scanners use multiple receive coils\n",
    "each of which has its own \"sensitivity map\" (or \"coil profile\").\n",
    "Realistic MRI simulations should account for the effects of those\n",
    "sensitivity maps analytically, rather than committing the \"inverse crime\"\n",
    "of using rasterized phantoms and maps.\n",
    "\n",
    "See the 2012 paper\n",
    "[Guerquin-Kern et al.](http://doi.org/10.1109/TMI.2011.2174158)\n",
    "that combines analytical k-space values of the phantom\n",
    "with an analytical model for the sensitivity maps.\n",
    "This package follows the recommended approach from that paper.\n",
    "We used the `mri_smap_fit` function to fit each sensitivity map\n",
    "with a modest number of complex exponential signals.\n",
    "Then, instead of using the `spectrum` function\n",
    "we use the `spectra` function\n",
    "to generate simulated k-space data\n",
    "from analytical phantoms (like ellipses)."
   ],
   "metadata": {}
  },
  {
   "cell_type": "markdown",
   "source": [
    "Because FFTW.fft cannot handle units, this function is a work-around."
   ],
   "metadata": {}
  },
  {
   "outputs": [],
   "cell_type": "code",
   "source": [
    "function myfft(x::AbstractArray{T}) where {T <: Number}\n",
    "    u = oneunit(T)\n",
    "    return fftshift(fft(fftshift(x) / u)) * u\n",
    "end"
   ],
   "metadata": {},
   "execution_count": null
  },
  {
   "cell_type": "markdown",
   "source": [
    "### Phantom"
   ],
   "metadata": {}
  },
  {
   "cell_type": "markdown",
   "source": [
    "Image geometry:"
   ],
   "metadata": {}
  },
  {
   "outputs": [],
   "cell_type": "code",
   "source": [
    "fovs = (256mm, 250mm)\n",
    "nx, ny = (128, 100) .* 2\n",
    "dx, dy = fovs ./ (nx,ny)\n",
    "x = (-(nx÷2):(nx÷2-1)) * dx\n",
    "y = (-(ny÷2):(ny÷2-1)) * dy"
   ],
   "metadata": {},
   "execution_count": null
  },
  {
   "cell_type": "markdown",
   "source": [
    "Define Shepp-Logan phantom object,\n",
    "with random complex phases\n",
    "to make it a bit more realistic."
   ],
   "metadata": {}
  },
  {
   "outputs": [],
   "cell_type": "code",
   "source": [
    "params = ellipse_parameters(SheppLoganBrainWeb() ; disjoint=true, fovs)\n",
    "seed!(0)\n",
    "phases = [1; rand(ComplexF32,9)] # random phases\n",
    "params = [(p[1:5]..., phases[i]) for (i, p) in enumerate(params)]\n",
    "oa = ellipse(params)\n",
    "oversample = 3\n",
    "image0 = phantom(x, y, oa, oversample)\n",
    "cfun = z -> cat(dims = ndims(z)+1, real(z), imag(z))\n",
    "jim(x, y, cfun(image0), \"Digital phantom\\n (real | imag)\")"
   ],
   "metadata": {},
   "execution_count": null
  },
  {
   "cell_type": "markdown",
   "source": [
    "In practice, sensitivity maps are usually estimated\n",
    "only over portion of the image array,\n",
    "so we define a simple `mask` here\n",
    "to exercise this issue."
   ],
   "metadata": {}
  },
  {
   "outputs": [],
   "cell_type": "code",
   "source": [
    "mask = trues(nx,ny)\n",
    "mask[:,[1:2;end-2:end]] .= false\n",
    "mask[[1:8;end-8:end],:] .= false\n",
    "@assert mask .* image0 == image0\n",
    "jim(x, y, mask, \"mask\")"
   ],
   "metadata": {},
   "execution_count": null
  },
  {
   "cell_type": "markdown",
   "source": [
    "### Sensitivity maps\n",
    "\n",
    "Here we use highly idealized sensitivity maps,\n",
    "roughly corresponding to the\n",
    "[Biot-Savart law](https://en.wikipedia.org/wiki/Biot-Savart_law)\n",
    "for an infinite thin wire,\n",
    "as a crude approximation of a\n",
    "[birdcage coil](https://en.wikipedia.org/wiki/Radiofrequency_coil).\n",
    "One wire is outside the upper right corner,\n",
    "the other is outside the left border."
   ],
   "metadata": {}
  },
  {
   "cell_type": "markdown",
   "source": [
    "response at (x,y) to wire at (wx,wy)"
   ],
   "metadata": {}
  },
  {
   "outputs": [],
   "cell_type": "code",
   "source": [
    "function biot_savart_wire(x, y, wx, wy)\n",
    "    phase = cis(atan(y-wy, x-wx))\n",
    "    return oneunit(x) / sqrt(sum(abs2, (x-wx, y-wy))) * phase # 1/r falloff\n",
    "end\n",
    "\n",
    "ncoil = 2\n",
    "wire1 = (a,b) -> biot_savart_wire(a, b, maximum(x) + 8dx, maximum(y) + 8dy)\n",
    "wire2 = (a,b) -> biot_savart_wire(a, b, minimum(x) - 20dx, zero(dy))\n",
    "smap = [wire1.(x, y'), wire2.(x, y')]\n",
    "smap[1] *= cis(3π/4) # match coil phases at image center, ala \"quadrature phase\"\n",
    "smap = cat(dims=3, smap...)\n",
    "smap /= maximum(abs, smap)\n",
    "mag = abs.(smap)\n",
    "phase = angle.(smap)\n",
    "\n",
    "jim(\n",
    " jim(x, y, mag, \"|Sensitivity maps raw|\"; color=:cividis, ncol=1, prompt=false),\n",
    " jim(x, y, phase, \"∠(Sensitivity maps raw)\"; color=:hsv, ncol=1, prompt=false),\n",
    ")"
   ],
   "metadata": {},
   "execution_count": null
  },
  {
   "cell_type": "markdown",
   "source": [
    "Typical sensitivity map estimation methods\n",
    "normalize the maps\n",
    "so that the square-root of the sum of squares (SSoS) is unity:"
   ],
   "metadata": {}
  },
  {
   "outputs": [],
   "cell_type": "code",
   "source": [
    "ssos = sqrt.(sum(abs.(smap).^2, dims=ndims(smap))) # SSoS\n",
    "ssos = selectdim(ssos, ndims(smap), 1)\n",
    "jim(x, y, ssos, \"SSoS for ncoil=$ncoil\"; color=:cividis, clim=(0,1))\n",
    "\n",
    "for ic=1:ncoil # normalize\n",
    "    selectdim(smap, ndims(smap), ic) ./= ssos\n",
    "end\n",
    "smap .*= mask\n",
    "stacker = x -> [(@view x[:,:,i]) for i=1:size(x,3)]\n",
    "smaps = stacker(smap) # code hereafter expects vector of maps\n",
    "jim(x, y, cfun(smaps), \"Sensitivity maps (masked and normalized)\")"
   ],
   "metadata": {},
   "execution_count": null
  },
  {
   "cell_type": "markdown",
   "source": [
    "### Sensitivity map fitting using complex exponentials\n",
    "\n",
    "The `mri_smap_fit` function fits each `smap`\n",
    "with a linear combination of complex exponential signals.\n",
    "(These signals are not orthogonal due to the `mask`.)\n",
    "With frequencies `-9:9/N`, the maximum error is ≤ 0.4%."
   ],
   "metadata": {}
  },
  {
   "outputs": [],
   "cell_type": "code",
   "source": [
    "deltas = (dx, dy)\n",
    "kmax = 9\n",
    "fit = mri_smap_fit(smaps, embed; mask, kmax, deltas)\n",
    "jim(\n",
    " jim(x, y, cfun(smaps), \"Original maps\"; prompt=false, clim=(-1,1)),\n",
    " jim(x, y, cfun(fit.smaps), \"Fit maps\"; prompt=false, clim=(-1,1)),\n",
    " jim(x, y, cfun(100 * (fit.smaps - smaps)), \"error * 100\"; prompt=false),\n",
    ")"
   ],
   "metadata": {},
   "execution_count": null
  },
  {
   "cell_type": "markdown",
   "source": [
    "The fit coefficients are smaller near `±kmax`\n",
    "so probably `kmax` is large enough."
   ],
   "metadata": {}
  },
  {
   "outputs": [],
   "cell_type": "code",
   "source": [
    "coefs = map(x -> reshape(x, 2kmax+1, 2kmax+1), fit.coefs)\n",
    "jim(-kmax:kmax, -kmax:kmax, cfun(coefs), \"Coefficients\")"
   ],
   "metadata": {},
   "execution_count": null
  },
  {
   "cell_type": "markdown",
   "source": [
    "### Compare FFT with analytical spectra"
   ],
   "metadata": {}
  },
  {
   "cell_type": "markdown",
   "source": [
    "Frequency sample vectors:"
   ],
   "metadata": {}
  },
  {
   "outputs": [],
   "cell_type": "code",
   "source": [
    "fx = (-(nx÷2):(nx÷2-1)) / (nx*dx) # crucial to match `mri_smap_basis` internals!\n",
    "fy = (-(ny÷2):(ny÷2-1)) / (ny*dy)\n",
    "gx, gy = ndgrid(fx, fy);"
   ],
   "metadata": {},
   "execution_count": null
  },
  {
   "cell_type": "markdown",
   "source": [
    "Analytical spectra computation for complex phantom using all smaps.\n",
    "Note the `fit` argument."
   ],
   "metadata": {}
  },
  {
   "outputs": [],
   "cell_type": "code",
   "source": [
    "kspace1 = mri_spectra(vec(gx), vec(gy), oa, fit)\n",
    "kspace1 = [reshape(k, nx, ny) for k in kspace1]\n",
    "p1 = jim(fx, fy, cfun(kspace1), \"Analytical\")"
   ],
   "metadata": {},
   "execution_count": null
  },
  {
   "cell_type": "markdown",
   "source": [
    "FFT spectra computation based on digital image and sensitivity maps:"
   ],
   "metadata": {}
  },
  {
   "outputs": [],
   "cell_type": "code",
   "source": [
    "image2 = [image0 .* s for s in smaps] # digital\n",
    "kspace2 = myfft.(image2) * (dx * dy)\n",
    "p2 = jim(fx, fy, cfun(kspace2), \"FFT-based\")"
   ],
   "metadata": {},
   "execution_count": null
  },
  {
   "outputs": [],
   "cell_type": "code",
   "source": [
    "p3 = jim(fx, fy, cfun(kspace2 - kspace1), \"Error\")"
   ],
   "metadata": {},
   "execution_count": null
  },
  {
   "cell_type": "markdown",
   "source": [
    "Zoom in to illustrate similarity:"
   ],
   "metadata": {}
  },
  {
   "outputs": [],
   "cell_type": "code",
   "source": [
    "xlims = (-1,1) .* (0.06/mm)\n",
    "ylims = (-1,1) .* (0.06/mm)\n",
    "jim(\n",
    " jim(fx, fy, real(kspace1[1]), \"Analytical\"; xlims, ylims, prompt=false),\n",
    " jim(fx, fy, real(kspace2[1]), \"FFT-based\"; xlims, ylims, prompt=false),\n",
    " jim(fx, fy, real(kspace2[1] - kspace1[1]), \"Error\"; xlims, ylims, prompt=false),\n",
    ")"
   ],
   "metadata": {},
   "execution_count": null
  },
  {
   "cell_type": "markdown",
   "source": [
    "In summary, the `mri_smap_fit` and `mri_spectra` methods here\n",
    "reproduce the approach in the 2012 Guerquin-Kern paper, cited above,\n",
    "enabling parallel MRI simulations that avoid an inverse crime."
   ],
   "metadata": {}
  },
  {
   "cell_type": "markdown",
   "source": [
    "---\n",
    "\n",
    "*This notebook was generated using [Literate.jl](https://github.com/fredrikekre/Literate.jl).*"
   ],
   "metadata": {}
  }
 ],
 "nbformat_minor": 3,
 "metadata": {
  "language_info": {
   "file_extension": ".jl",
   "mimetype": "application/julia",
   "name": "julia",
   "version": "1.8.2"
  },
  "kernelspec": {
   "name": "julia-1.8",
   "display_name": "Julia 1.8.2",
   "language": "julia"
  }
 },
 "nbformat": 4
}
