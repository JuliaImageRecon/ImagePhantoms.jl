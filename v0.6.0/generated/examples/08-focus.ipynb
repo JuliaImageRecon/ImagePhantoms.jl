{
 "cells": [
  {
   "cell_type": "markdown",
   "source": [
    "# Focus Chart"
   ],
   "metadata": {}
  },
  {
   "cell_type": "markdown",
   "source": [
    "This page illustrates the `focus_chart` method in the Julia package\n",
    "[`ImagePhantoms`](https://github.com/JuliaImageRecon/ImagePhantoms.jl).\n",
    "\n",
    "This page was generated from a single Julia file:\n",
    "[08-focus.jl](https://github.com/JuliaImageRecon/ImagePhantoms.jl/blob/main/docs/lit/examples/08-focus.jl)."
   ],
   "metadata": {}
  },
  {
   "cell_type": "markdown",
   "source": [
    "### Setup"
   ],
   "metadata": {}
  },
  {
   "cell_type": "markdown",
   "source": [
    "Packages needed here."
   ],
   "metadata": {}
  },
  {
   "outputs": [],
   "cell_type": "code",
   "source": [
    "using ImagePhantoms: focus_chart, phantom\n",
    "using MIRTjim: jim"
   ],
   "metadata": {},
   "execution_count": null
  },
  {
   "cell_type": "markdown",
   "source": [
    "### Focus chart phantom image"
   ],
   "metadata": {}
  },
  {
   "cell_type": "markdown",
   "source": [
    "One of the shapes in `ImagePhantoms` is an equilateral triangle,\n",
    "and by scaling and translating this shape\n",
    "one can define a focus chart phantom."
   ],
   "metadata": {}
  },
  {
   "outputs": [],
   "cell_type": "code",
   "source": [
    "ob = focus_chart( ; nspoke = 56, value = 4)\n",
    "x = LinRange(-1,1,2^9) * 1.1\n",
    "y = x\n",
    "image = phantom(ob).(x, y')\n",
    "jim(x, y, image; title = \"Focus chart phantom\")"
   ],
   "metadata": {},
   "execution_count": null
  },
  {
   "cell_type": "markdown",
   "source": [
    "---\n",
    "\n",
    "*This notebook was generated using [Literate.jl](https://github.com/fredrikekre/Literate.jl).*"
   ],
   "metadata": {}
  }
 ],
 "nbformat_minor": 3,
 "metadata": {
  "language_info": {
   "file_extension": ".jl",
   "mimetype": "application/julia",
   "name": "julia",
   "version": "1.8.2"
  },
  "kernelspec": {
   "name": "julia-1.8",
   "display_name": "Julia 1.8.2",
   "language": "julia"
  }
 },
 "nbformat": 4
}
