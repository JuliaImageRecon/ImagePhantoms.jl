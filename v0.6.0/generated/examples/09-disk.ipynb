{
 "cells": [
  {
   "cell_type": "markdown",
   "source": [
    "# Random Disks"
   ],
   "metadata": {}
  },
  {
   "cell_type": "markdown",
   "source": [
    "This page illustrates the `disk_phantom_params` method in the Julia package\n",
    "[`ImagePhantoms`](https://github.com/JuliaImageRecon/ImagePhantoms.jl).\n",
    "\n",
    "This page was generated from a single Julia file:\n",
    "[09-disk.jl](https://github.com/JuliaImageRecon/ImagePhantoms.jl/blob/main/docs/lit/examples/09-disk.jl)."
   ],
   "metadata": {}
  },
  {
   "cell_type": "markdown",
   "source": [
    "### Setup"
   ],
   "metadata": {}
  },
  {
   "cell_type": "markdown",
   "source": [
    "Packages needed here."
   ],
   "metadata": {}
  },
  {
   "outputs": [],
   "cell_type": "code",
   "source": [
    "using ImagePhantoms: ellipse, phantom, disk_phantom_params\n",
    "using ImageGeoms: ImageGeom\n",
    "using MIRTjim: jim, prompt\n",
    "using Plots # @animate, gif"
   ],
   "metadata": {},
   "execution_count": null
  },
  {
   "cell_type": "markdown",
   "source": [
    "The following line is helpful when running this file as a script;\n",
    "this way it will prompt user to hit a key after each figure is displayed."
   ],
   "metadata": {}
  },
  {
   "outputs": [],
   "cell_type": "code",
   "source": [
    "isinteractive() ? jim(:prompt, true) : prompt(:draw);"
   ],
   "metadata": {},
   "execution_count": null
  },
  {
   "cell_type": "markdown",
   "source": [
    "### Overview"
   ],
   "metadata": {}
  },
  {
   "cell_type": "markdown",
   "source": [
    "For training machine-learning methods for image reconstruction,\n",
    "it can be helpful to have a way to generate a family of phantoms\n",
    "drawn from some common distribution,\n",
    "especially for debugging\n",
    "or when real ground-truth data is limited.\n",
    "The `disk_phantom_params` function is one example of how\n",
    "one can use the tools in this package to generate such phantoms."
   ],
   "metadata": {}
  },
  {
   "cell_type": "markdown",
   "source": [
    "### A single disk phantom image"
   ],
   "metadata": {}
  },
  {
   "cell_type": "markdown",
   "source": [
    "Make a digital image of it using `phantom` and display it."
   ],
   "metadata": {}
  },
  {
   "outputs": [],
   "cell_type": "code",
   "source": [
    "function disk_phantom(title::String)\n",
    "    (dx,dy) = (1, 1)\n",
    "    (M,N) = (2^8,2^8)\n",
    "    x = (-M÷2:M÷2-1) * dx\n",
    "    y = (-N÷2:N÷2-1) * dy\n",
    "    params = disk_phantom_params( ; rhead = () -> rand(100:105))\n",
    "    objects = ellipse(params) # vector of Object{Ellipse}\n",
    "    oversample = 3\n",
    "    img = phantom(x, y, objects, oversample)\n",
    "    jim(x, y, img; title, clim=(0,1300))\n",
    "end\n",
    "disk_phantom(\"A single disk phantom realization\")"
   ],
   "metadata": {},
   "execution_count": null
  },
  {
   "cell_type": "markdown",
   "source": [
    "### Several realizations"
   ],
   "metadata": {}
  },
  {
   "outputs": [],
   "cell_type": "code",
   "source": [
    "anim = @animate for i in 1:8\n",
    "    disk_phantom(\"Realization $i\")\n",
    "end\n",
    "gif(anim, \"disk.gif\", fps = 6)"
   ],
   "metadata": {},
   "execution_count": null
  },
  {
   "cell_type": "markdown",
   "source": [
    "---\n",
    "\n",
    "*This notebook was generated using [Literate.jl](https://github.com/fredrikekre/Literate.jl).*"
   ],
   "metadata": {}
  }
 ],
 "nbformat_minor": 3,
 "metadata": {
  "language_info": {
   "file_extension": ".jl",
   "mimetype": "application/julia",
   "name": "julia",
   "version": "1.8.2"
  },
  "kernelspec": {
   "name": "julia-1.8",
   "display_name": "Julia 1.8.2",
   "language": "julia"
  }
 },
 "nbformat": 4
}
