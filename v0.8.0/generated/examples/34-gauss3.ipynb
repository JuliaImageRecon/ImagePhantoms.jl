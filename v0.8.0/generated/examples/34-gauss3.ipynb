{
 "cells": [
  {
   "cell_type": "markdown",
   "source": [
    "# Gauss3\n",
    "\n",
    "This page illustrates the `Gauss3` shape in the Julia package\n",
    "[`ImagePhantoms`](https://github.com/JuliaImageRecon/ImagePhantoms.jl)."
   ],
   "metadata": {}
  },
  {
   "cell_type": "markdown",
   "source": [
    "### Setup"
   ],
   "metadata": {}
  },
  {
   "cell_type": "markdown",
   "source": [
    "Packages needed here."
   ],
   "metadata": {}
  },
  {
   "outputs": [],
   "cell_type": "code",
   "source": [
    "using ImagePhantoms: Object, phantom, radon, spectrum\n",
    "using ImagePhantoms: Gauss3, gauss3\n",
    "import ImagePhantoms as IP\n",
    "using ImageGeoms: ImageGeom, axesf\n",
    "using MIRTjim: jim, prompt, mid3\n",
    "using FFTW: fft, fftshift, ifftshift\n",
    "using LazyGrids: ndgrid\n",
    "using Unitful: mm, unit, °\n",
    "using Plots: plot, plot!, scatter!, default\n",
    "using Plots # gif @animate\n",
    "default(markerstrokecolor=:auto)"
   ],
   "metadata": {},
   "execution_count": null
  },
  {
   "cell_type": "markdown",
   "source": [
    "The following line is helpful when running this file as a script;\n",
    "this way it will prompt user to hit a key after each figure is displayed."
   ],
   "metadata": {}
  },
  {
   "outputs": [],
   "cell_type": "code",
   "source": [
    "isinteractive() ? jim(:prompt, true) : prompt(:draw);"
   ],
   "metadata": {},
   "execution_count": null
  },
  {
   "cell_type": "markdown",
   "source": [
    "## Overview\n",
    "\n",
    "A useful shape\n",
    "for constructing 3D digital image phantoms\n",
    "is the 3D gaussian,\n",
    "specified by its center, fwhm, angle(s) and value.\n",
    "All of the methods in `ImagePhantoms` support physical units,\n",
    "so we use such units throughout this example.\n",
    "(Using units is recommended but not required.)\n",
    "\n",
    "Here are 3 ways to define a 3D `Object{Gauss3}`,\n",
    "using physical units."
   ],
   "metadata": {}
  },
  {
   "outputs": [],
   "cell_type": "code",
   "source": [
    "center = (20mm, 10mm, 5mm)\n",
    "width = (25mm, 35mm, 15mm)\n",
    "ϕ0s = :(π/6) # symbol version for nice plot titles\n",
    "ϕ0 = eval(ϕ0s)\n",
    "angles = (ϕ0, 0, 0)\n",
    "Object(Gauss3(), center, width, angles, 1.0f0) # top-level constructor\n",
    "gauss3(20mm, 10mm, 5mm, 25mm, 35mm, 15mm, π/6, 0, 0, 1.0f0) # 9 arguments\n",
    "ob = gauss3(center, width, angles, 1.0f0) # tuples (recommended use)"
   ],
   "metadata": {},
   "execution_count": null
  },
  {
   "cell_type": "markdown",
   "source": [
    "## Phantom image using `phantom`\n",
    "\n",
    "Make a 3D digital image of it using `phantom` and display it.\n",
    "We use `ImageGeoms` to simplify the indexing."
   ],
   "metadata": {}
  },
  {
   "outputs": [],
   "cell_type": "code",
   "source": [
    "deltas = (1.0mm, 1.1mm, 1.2mm)\n",
    "dims = (2^8, 2^8+2, 49) # odd\n",
    "ig = ImageGeom( ; dims, deltas, offsets=:dsp)\n",
    "oversample = 2\n",
    "img = phantom(axes(ig)..., [ob], oversample)\n",
    "p1 = jim(axes(ig), img;\n",
    "   title=\"Gauss3, rotation ϕ=$ϕ0s\", xlabel=\"x\", ylabel=\"y\")"
   ],
   "metadata": {},
   "execution_count": null
  },
  {
   "cell_type": "markdown",
   "source": [
    "The image integral should match the object volume:"
   ],
   "metadata": {}
  },
  {
   "outputs": [],
   "cell_type": "code",
   "source": [
    "volume = IP.volume(ob)\n",
    "(sum(img)*prod(ig.deltas), volume)"
   ],
   "metadata": {},
   "execution_count": null
  },
  {
   "cell_type": "markdown",
   "source": [
    "Show middle slices"
   ],
   "metadata": {}
  },
  {
   "outputs": [],
   "cell_type": "code",
   "source": [
    "jim(mid3(img), \"Middle 3 planes\")"
   ],
   "metadata": {},
   "execution_count": null
  },
  {
   "cell_type": "markdown",
   "source": [
    "## Spectrum using `spectrum`\n",
    "\n",
    "There are two ways to examine the spectrum of this 3D image:\n",
    "* using the analytical Fourier transform of the object via `spectrum`\n",
    "* applying the DFT via FFT to the digital image.\n",
    "Because the shape has units `mm`, the spectra axes have units cycles/mm.\n",
    "Appropriate frequency axes for DFT are provided by `axesf(ig)`."
   ],
   "metadata": {}
  },
  {
   "outputs": [],
   "cell_type": "code",
   "source": [
    "vscale = 1 / volume # normalize spectra by volume\n",
    "spectrum_exact = spectrum(axesf(ig)..., [ob]) * vscale\n",
    "sp = z -> max(log10(abs(z)/oneunit(abs(z))), -6) # log-scale for display\n",
    "clim = (-6, 0) # colorbar limit for display\n",
    "(xlabel, ylabel) = (\"ν₁\", \"ν₂\")\n",
    "p2 = jim(axesf(ig), sp.(spectrum_exact), \"log10|Spectrum|\"; clim, xlabel, ylabel)"
   ],
   "metadata": {},
   "execution_count": null
  },
  {
   "cell_type": "markdown",
   "source": [
    "Sadly `fft` cannot handle units currently, so this function is a work-around:"
   ],
   "metadata": {}
  },
  {
   "outputs": [],
   "cell_type": "code",
   "source": [
    "function myfft(x)\n",
    "    u = unit(eltype(x))\n",
    "    return fftshift(fft(ifftshift(x) / u)) * u\n",
    "end\n",
    "\n",
    "spectrum_fft = myfft(img) * (prod(ig.deltas) * vscale)\n",
    "p3 = jim(axesf(ig), sp.(spectrum_fft), \"log10|DFT|\"; clim, xlabel, ylabel)"
   ],
   "metadata": {},
   "execution_count": null
  },
  {
   "cell_type": "markdown",
   "source": [
    "Compare the DFT and analytical spectra to validate the code"
   ],
   "metadata": {}
  },
  {
   "outputs": [],
   "cell_type": "code",
   "source": [
    "errf = maximum(abs, spectrum_exact - spectrum_fft) / maximum(abs, spectrum_exact)\n",
    "@assert errf < 1e-3\n",
    "p4 = jim(axesf(ig), 1e3*abs.(spectrum_fft - spectrum_exact);\n",
    "   title=\"|Difference| × 10³\", xlabel, ylabel)\n",
    "jim(p1, p4, p2, p3)"
   ],
   "metadata": {},
   "execution_count": null
  },
  {
   "cell_type": "markdown",
   "source": [
    "## Parallel-beam projections using `radon`\n",
    "\n",
    "Compute 2D projection views of the object using `radon`.\n",
    "Validate it using the projection-slice theorem aka Fourier-slice theorem."
   ],
   "metadata": {}
  },
  {
   "outputs": [],
   "cell_type": "code",
   "source": [
    "pg = ImageGeom((2^8,2^7), (0.6mm,1.0mm), (0.5,0.5)) # projection sampling\n",
    "ϕs, θs = (:(π/2), ϕ0s), (:(π/7), :(0))\n",
    "ϕ, θ = [eval.(ϕs)...], [eval.(θs)...]\n",
    "proj2 = [radon(axes(pg)..., ϕ[i], θ[i], [ob]) for i in 1:2] # 2 projections\n",
    "smax = ob.value * IP.fwhm2spread(maximum(ob.width))\n",
    "p5 = jim(axes(pg)..., proj2; xlabel=\"u\", ylabel=\"v\", title =\n",
    "    \"Projections at (ϕ,θ) = ($(ϕs[1]), $(θs[1])) and ($(ϕs[2]), $(θs[2]))\")"
   ],
   "metadata": {},
   "execution_count": null
  },
  {
   "cell_type": "markdown",
   "source": [
    "Because the object has maximum FWHM of 35mm,\n",
    "and one of the two views above was along the corresponding axis,\n",
    "the maximum projection value is about\n",
    "`fwhm2spread(35mm) = 35mm * sqrt(π / log(16))` ≈ 37.25mm."
   ],
   "metadata": {}
  },
  {
   "outputs": [],
   "cell_type": "code",
   "source": [
    "maxes = round.((smax, maximum.(proj2)...) ./ 1mm; digits=2)"
   ],
   "metadata": {},
   "execution_count": null
  },
  {
   "cell_type": "markdown",
   "source": [
    "The integral of each projection should match the object volume:"
   ],
   "metadata": {}
  },
  {
   "outputs": [],
   "cell_type": "code",
   "source": [
    "vols = round.(((p -> sum(p)*prod(pg.deltas)).(proj2)..., volume) ./ 1mm^3; digits=2)"
   ],
   "metadata": {},
   "execution_count": null
  },
  {
   "cell_type": "markdown",
   "source": [
    "Look at a set of projections as the views orbit around the object."
   ],
   "metadata": {}
  },
  {
   "outputs": [],
   "cell_type": "code",
   "source": [
    "ϕd = 0:6:360\n",
    "ϕs = deg2rad.(ϕd)\n",
    "θs = :(π/7)\n",
    "θ = eval(θs)\n",
    "projs = radon(axes(pg)..., ϕs, [θ], [ob]) # many projection views\n",
    "\n",
    "if isinteractive()\n",
    "    jim(axes(pg)..., projs; title=\"projection views $(ϕd)\")\n",
    "else\n",
    "    anim = @animate for ip in 1:length(ϕd)\n",
    "        jim(axes(pg), projs[:,:,ip,1]; xlabel=\"u\", ylabel=\"v\", prompt=false,\n",
    "            title=\"ϕ=$(ϕd[ip])° θ=$θs\", clim = (0,1) .* smax)\n",
    "    end\n",
    "    gif(anim, \"gauss3.gif\", fps = 6)\n",
    "end"
   ],
   "metadata": {},
   "execution_count": null
  },
  {
   "cell_type": "markdown",
   "source": [
    "The above sampling generated a parallel-beam projection,\n",
    "but one could make a cone-beam projection\n",
    "by sampling `(u, v, ϕ, θ)` appropriately.\n",
    "See Sinograms.jl."
   ],
   "metadata": {}
  },
  {
   "cell_type": "markdown",
   "source": [
    "## Fourier-slice theorem illustration\n",
    "\n",
    "Pick one particular view and compare its FFT\n",
    "to a slice through the 3D object spectrum."
   ],
   "metadata": {}
  },
  {
   "outputs": [],
   "cell_type": "code",
   "source": [
    "ϕs, θs = :(π/3), :(π/7)\n",
    "ϕ, θ = eval.((ϕs, θs))\n",
    "proj = radon(axes(pg)..., ϕ, θ, [ob])\n",
    "p6 = jim(axes(pg), proj; xlabel=\"u\", ylabel=\"v\", prompt=false,\n",
    "    title = \"Projection at (ϕ,θ) = ($ϕs, $θs)\")\n",
    "\n",
    "e1 = (cos(ϕ), sin(ϕ), 0)\n",
    "e3 = (sin(ϕ)*sin(θ), -cos(ϕ)*sin(θ), cos(θ))\n",
    "fu, fv = ndgrid(axesf(pg)...)\n",
    "ff = vec(fu) * [e1...]' + vec(fv) * [e3...]' # fx,fy,fz for Fourier-slice theorem\n",
    "spectrum_slice = spectrum(ob).(ff[:,1], ff[:,2], ff[:,3]) * vscale\n",
    "spectrum_slice = reshape(spectrum_slice, pg.dims)\n",
    "clim = (-6, 0) # colorbar limit for display\n",
    "(xlabel, ylabel) = (\"νᵤ\", \"νᵥ\")\n",
    "p7 = jim(axesf(pg), sp.(spectrum_slice); prompt=false,\n",
    "    title = \"log10|Spectrum Slice|\", clim, xlabel, ylabel)\n",
    "proj_fft = myfft(proj) * prod(pg.deltas) * vscale\n",
    "p8 = jim(axesf(pg), sp.(proj_fft); prompt=false,\n",
    "     title = \"log10|FFT Spectrum|\", clim, xlabel, ylabel)\n",
    "\n",
    "errs = maximum(abs, spectrum_slice - proj_fft) / maximum(abs, spectrum_slice)\n",
    "@assert errs < 1e-5\n",
    "p9 = jim(axesf(pg), 1e6*abs.(proj_fft - spectrum_slice);\n",
    "    title=\"|Difference| × 10⁶\", xlabel, ylabel, prompt=false)\n",
    "jim(p6, p7, p8, p9)"
   ],
   "metadata": {},
   "execution_count": null
  },
  {
   "cell_type": "markdown",
   "source": [
    "The good agreement between\n",
    "the 2D slice through the 3D analytical spectrum\n",
    "and the FFT of the 2D projection view\n",
    "validates that `phantom`, `radon`, and `spectrum`\n",
    "are all self consistent\n",
    "for this shape."
   ],
   "metadata": {}
  },
  {
   "cell_type": "markdown",
   "source": [
    "---\n",
    "\n",
    "*This notebook was generated using [Literate.jl](https://github.com/fredrikekre/Literate.jl).*"
   ],
   "metadata": {}
  }
 ],
 "nbformat_minor": 3,
 "metadata": {
  "language_info": {
   "file_extension": ".jl",
   "mimetype": "application/julia",
   "name": "julia",
   "version": "1.10.3"
  },
  "kernelspec": {
   "name": "julia-1.10",
   "display_name": "Julia 1.10.3",
   "language": "julia"
  }
 },
 "nbformat": 4
}
